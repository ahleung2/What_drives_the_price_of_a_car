{
 "cells": [
  {
   "cell_type": "markdown",
   "metadata": {},
   "source": [
    "# What drives the price of a car?\n",
    "\n",
    "![](images/kurt.jpeg)"
   ]
  },
  {
   "cell_type": "markdown",
   "metadata": {},
   "source": [
    "**OVERVIEW**\n",
    "\n",
    "In this application, you will explore a dataset from kaggle. The original dataset contained information on 3 million used cars. The provided dataset contains information on 426K cars to ensure speed of processing.  Your goal is to understand what factors make a car more or less expensive.  As a result of your analysis, you should provide clear recommendations to your client -- a used car dealership -- as to what consumers value in a used car."
   ]
  },
  {
   "cell_type": "markdown",
   "metadata": {},
   "source": [
    "### CRISP-DM Framework\n",
    "\n",
    "<center>\n",
    "    <img src = images/crisp.png width = 50%/>\n",
    "</center>\n",
    "\n",
    "\n",
    "To frame the task, throughout our practical applications we will refer back to a standard process in industry for data projects called CRISP-DM.  This process provides a framework for working through a data problem.  Your first step in this application will be to read through a brief overview of CRISP-DM [here](https://mo-pcco.s3.us-east-1.amazonaws.com/BH-PCMLAI/module_11/readings_starter.zip).  After reading the overview, answer the questions below."
   ]
  },
  {
   "cell_type": "markdown",
   "metadata": {},
   "source": [
    "### Business Understanding\n",
    "\n",
    "From a business perspective, we are tasked with identifying key drivers for used car prices.  In the CRISP-DM overview, we are asked to convert this business framing to a data problem definition.  Using a few sentences, reframe the task as a data task with the appropriate technical vocabulary. "
   ]
  },
  {
   "cell_type": "markdown",
   "metadata": {},
   "source": [
    "Our client is interested in knowing what attributes of a used car lead to higher prices. With this information, the client will be able to make more informed pricing decisions. The task at hand is to identify key drivers for used car prices. To accomplish this, we will use collected data containing various attributes of used cars and their corresponding prices. We will first explore the dataset and perform any data preprocessing as needed prior to modeling. Once data preparations are complete, we can proceed to create predictive models from which we can assess and evaluate attributes that lead to higher prices which we can then inform our client. "
   ]
  },
  {
   "cell_type": "markdown",
   "metadata": {},
   "source": [
    "### Data Understanding\n",
    "\n",
    "After considering the business understanding, we want to get familiar with our data.  Write down some steps that you would take to get to know the dataset and identify any quality issues within.  Take time to get to know the dataset and explore what information it contains and how this could be used to inform your business understanding."
   ]
  },
  {
   "cell_type": "markdown",
   "metadata": {},
   "source": [
    "Data understanding is a critical step in the CRISP-DM because it lays the foundation for subsquent steps in the process. More specifically, data understanding enables us to identify relevant attributes needed to answer our question regarding used cars. Additionally, it allows us to assess the quality of the data (ex. amount of missing data). These are some steps to better understand the dataset:\n",
    "- Examine shape of dataset (i.e number of rows and columns)\n",
    "- Look at data types for each columns\n",
    "    - Take note which feature are categorical vs numerical \n",
    "- Determine if there are columns with null values\n",
    "    - assess impact of null values:\n",
    "        - do we decide to drop or impute values\n",
    "- Identify distribution of classes within a feature"
   ]
  },
  {
   "cell_type": "code",
   "execution_count": 1,
   "metadata": {},
   "outputs": [],
   "source": [
    "import numpy as np\n",
    "import pandas as pd\n",
    "import matplotlib.pyplot as plt\n",
    "from datetime import datetime\n",
    "import seaborn as sns\n",
    "from sklearn import set_config\n",
    "set_config(display=\"diagram\")\n",
    "\n",
    "from sklearn.model_selection import train_test_split\n",
    "from sklearn.preprocessing import StandardScaler\n",
    "from sklearn.model_selection import train_test_split, GridSearchCV\n",
    "from sklearn.linear_model import LinearRegression, Ridge, Lasso\n",
    "from sklearn.metrics import mean_squared_error\n",
    "from sklearn.pipeline import Pipeline\n",
    "from sklearn.feature_selection import SequentialFeatureSelector\n",
    "from sklearn.inspection import permutation_importance\n",
    "from sklearn.model_selection import cross_val_score"
   ]
  },
  {
   "cell_type": "code",
   "execution_count": 2,
   "metadata": {},
   "outputs": [],
   "source": [
    "data = pd.read_csv('data/vehicles.csv')"
   ]
  },
  {
   "cell_type": "code",
   "execution_count": 3,
   "metadata": {
    "scrolled": false
   },
   "outputs": [
    {
     "data": {
      "text/html": [
       "<div>\n",
       "<style scoped>\n",
       "    .dataframe tbody tr th:only-of-type {\n",
       "        vertical-align: middle;\n",
       "    }\n",
       "\n",
       "    .dataframe tbody tr th {\n",
       "        vertical-align: top;\n",
       "    }\n",
       "\n",
       "    .dataframe thead th {\n",
       "        text-align: right;\n",
       "    }\n",
       "</style>\n",
       "<table border=\"1\" class=\"dataframe\">\n",
       "  <thead>\n",
       "    <tr style=\"text-align: right;\">\n",
       "      <th></th>\n",
       "      <th>id</th>\n",
       "      <th>region</th>\n",
       "      <th>price</th>\n",
       "      <th>year</th>\n",
       "      <th>manufacturer</th>\n",
       "      <th>model</th>\n",
       "      <th>condition</th>\n",
       "      <th>cylinders</th>\n",
       "      <th>fuel</th>\n",
       "      <th>odometer</th>\n",
       "      <th>title_status</th>\n",
       "      <th>transmission</th>\n",
       "      <th>VIN</th>\n",
       "      <th>drive</th>\n",
       "      <th>size</th>\n",
       "      <th>type</th>\n",
       "      <th>paint_color</th>\n",
       "      <th>state</th>\n",
       "    </tr>\n",
       "  </thead>\n",
       "  <tbody>\n",
       "    <tr>\n",
       "      <th>0</th>\n",
       "      <td>7222695916</td>\n",
       "      <td>prescott</td>\n",
       "      <td>6000</td>\n",
       "      <td>NaN</td>\n",
       "      <td>NaN</td>\n",
       "      <td>NaN</td>\n",
       "      <td>NaN</td>\n",
       "      <td>NaN</td>\n",
       "      <td>NaN</td>\n",
       "      <td>NaN</td>\n",
       "      <td>NaN</td>\n",
       "      <td>NaN</td>\n",
       "      <td>NaN</td>\n",
       "      <td>NaN</td>\n",
       "      <td>NaN</td>\n",
       "      <td>NaN</td>\n",
       "      <td>NaN</td>\n",
       "      <td>az</td>\n",
       "    </tr>\n",
       "    <tr>\n",
       "      <th>1</th>\n",
       "      <td>7218891961</td>\n",
       "      <td>fayetteville</td>\n",
       "      <td>11900</td>\n",
       "      <td>NaN</td>\n",
       "      <td>NaN</td>\n",
       "      <td>NaN</td>\n",
       "      <td>NaN</td>\n",
       "      <td>NaN</td>\n",
       "      <td>NaN</td>\n",
       "      <td>NaN</td>\n",
       "      <td>NaN</td>\n",
       "      <td>NaN</td>\n",
       "      <td>NaN</td>\n",
       "      <td>NaN</td>\n",
       "      <td>NaN</td>\n",
       "      <td>NaN</td>\n",
       "      <td>NaN</td>\n",
       "      <td>ar</td>\n",
       "    </tr>\n",
       "    <tr>\n",
       "      <th>2</th>\n",
       "      <td>7221797935</td>\n",
       "      <td>florida keys</td>\n",
       "      <td>21000</td>\n",
       "      <td>NaN</td>\n",
       "      <td>NaN</td>\n",
       "      <td>NaN</td>\n",
       "      <td>NaN</td>\n",
       "      <td>NaN</td>\n",
       "      <td>NaN</td>\n",
       "      <td>NaN</td>\n",
       "      <td>NaN</td>\n",
       "      <td>NaN</td>\n",
       "      <td>NaN</td>\n",
       "      <td>NaN</td>\n",
       "      <td>NaN</td>\n",
       "      <td>NaN</td>\n",
       "      <td>NaN</td>\n",
       "      <td>fl</td>\n",
       "    </tr>\n",
       "    <tr>\n",
       "      <th>3</th>\n",
       "      <td>7222270760</td>\n",
       "      <td>worcester / central MA</td>\n",
       "      <td>1500</td>\n",
       "      <td>NaN</td>\n",
       "      <td>NaN</td>\n",
       "      <td>NaN</td>\n",
       "      <td>NaN</td>\n",
       "      <td>NaN</td>\n",
       "      <td>NaN</td>\n",
       "      <td>NaN</td>\n",
       "      <td>NaN</td>\n",
       "      <td>NaN</td>\n",
       "      <td>NaN</td>\n",
       "      <td>NaN</td>\n",
       "      <td>NaN</td>\n",
       "      <td>NaN</td>\n",
       "      <td>NaN</td>\n",
       "      <td>ma</td>\n",
       "    </tr>\n",
       "    <tr>\n",
       "      <th>4</th>\n",
       "      <td>7210384030</td>\n",
       "      <td>greensboro</td>\n",
       "      <td>4900</td>\n",
       "      <td>NaN</td>\n",
       "      <td>NaN</td>\n",
       "      <td>NaN</td>\n",
       "      <td>NaN</td>\n",
       "      <td>NaN</td>\n",
       "      <td>NaN</td>\n",
       "      <td>NaN</td>\n",
       "      <td>NaN</td>\n",
       "      <td>NaN</td>\n",
       "      <td>NaN</td>\n",
       "      <td>NaN</td>\n",
       "      <td>NaN</td>\n",
       "      <td>NaN</td>\n",
       "      <td>NaN</td>\n",
       "      <td>nc</td>\n",
       "    </tr>\n",
       "  </tbody>\n",
       "</table>\n",
       "</div>"
      ],
      "text/plain": [
       "           id                  region  price  year manufacturer model  \\\n",
       "0  7222695916                prescott   6000   NaN          NaN   NaN   \n",
       "1  7218891961            fayetteville  11900   NaN          NaN   NaN   \n",
       "2  7221797935            florida keys  21000   NaN          NaN   NaN   \n",
       "3  7222270760  worcester / central MA   1500   NaN          NaN   NaN   \n",
       "4  7210384030              greensboro   4900   NaN          NaN   NaN   \n",
       "\n",
       "  condition cylinders fuel  odometer title_status transmission  VIN drive  \\\n",
       "0       NaN       NaN  NaN       NaN          NaN          NaN  NaN   NaN   \n",
       "1       NaN       NaN  NaN       NaN          NaN          NaN  NaN   NaN   \n",
       "2       NaN       NaN  NaN       NaN          NaN          NaN  NaN   NaN   \n",
       "3       NaN       NaN  NaN       NaN          NaN          NaN  NaN   NaN   \n",
       "4       NaN       NaN  NaN       NaN          NaN          NaN  NaN   NaN   \n",
       "\n",
       "  size type paint_color state  \n",
       "0  NaN  NaN         NaN    az  \n",
       "1  NaN  NaN         NaN    ar  \n",
       "2  NaN  NaN         NaN    fl  \n",
       "3  NaN  NaN         NaN    ma  \n",
       "4  NaN  NaN         NaN    nc  "
      ]
     },
     "execution_count": 3,
     "metadata": {},
     "output_type": "execute_result"
    }
   ],
   "source": [
    "data.head()"
   ]
  },
  {
   "cell_type": "markdown",
   "metadata": {},
   "source": [
    "**Observations:**\n",
    "- Immediately we notice that the first five rows have missing values. This will need to be explored further."
   ]
  },
  {
   "cell_type": "code",
   "execution_count": 4,
   "metadata": {
    "scrolled": true
   },
   "outputs": [
    {
     "data": {
      "text/plain": [
       "(426880, 18)"
      ]
     },
     "execution_count": 4,
     "metadata": {},
     "output_type": "execute_result"
    }
   ],
   "source": [
    "data.shape"
   ]
  },
  {
   "cell_type": "code",
   "execution_count": 5,
   "metadata": {
    "scrolled": false
   },
   "outputs": [
    {
     "name": "stdout",
     "output_type": "stream",
     "text": [
      "<class 'pandas.core.frame.DataFrame'>\n",
      "RangeIndex: 426880 entries, 0 to 426879\n",
      "Data columns (total 18 columns):\n",
      " #   Column        Non-Null Count   Dtype  \n",
      "---  ------        --------------   -----  \n",
      " 0   id            426880 non-null  int64  \n",
      " 1   region        426880 non-null  object \n",
      " 2   price         426880 non-null  int64  \n",
      " 3   year          425675 non-null  float64\n",
      " 4   manufacturer  409234 non-null  object \n",
      " 5   model         421603 non-null  object \n",
      " 6   condition     252776 non-null  object \n",
      " 7   cylinders     249202 non-null  object \n",
      " 8   fuel          423867 non-null  object \n",
      " 9   odometer      422480 non-null  float64\n",
      " 10  title_status  418638 non-null  object \n",
      " 11  transmission  424324 non-null  object \n",
      " 12  VIN           265838 non-null  object \n",
      " 13  drive         296313 non-null  object \n",
      " 14  size          120519 non-null  object \n",
      " 15  type          334022 non-null  object \n",
      " 16  paint_color   296677 non-null  object \n",
      " 17  state         426880 non-null  object \n",
      "dtypes: float64(2), int64(2), object(14)\n",
      "memory usage: 58.6+ MB\n"
     ]
    }
   ],
   "source": [
    "data.info()"
   ]
  },
  {
   "cell_type": "markdown",
   "metadata": {},
   "source": [
    "**Observations:**\n",
    "- dataset contains lots of non-numeric features\n"
   ]
  },
  {
   "cell_type": "code",
   "execution_count": 6,
   "metadata": {
    "scrolled": false
   },
   "outputs": [
    {
     "data": {
      "text/plain": [
       "id                   0\n",
       "region               0\n",
       "price                0\n",
       "year              1205\n",
       "manufacturer     17646\n",
       "model             5277\n",
       "condition       174104\n",
       "cylinders       177678\n",
       "fuel              3013\n",
       "odometer          4400\n",
       "title_status      8242\n",
       "transmission      2556\n",
       "VIN             161042\n",
       "drive           130567\n",
       "size            306361\n",
       "type             92858\n",
       "paint_color     130203\n",
       "state                0\n",
       "dtype: int64"
      ]
     },
     "execution_count": 6,
     "metadata": {},
     "output_type": "execute_result"
    }
   ],
   "source": [
    "# check the amount of missing values for each column\n",
    "data.isnull().sum()"
   ]
  },
  {
   "cell_type": "markdown",
   "metadata": {},
   "source": [
    "**Observations:**\n",
    "- At first glance, we can see that a number of columns have missing values.\n",
    "- To get a better idea how much data is missing, we should view these amount as a percentage of the entire dataset"
   ]
  },
  {
   "cell_type": "code",
   "execution_count": 7,
   "metadata": {},
   "outputs": [
    {
     "data": {
      "text/plain": [
       "426880"
      ]
     },
     "execution_count": 7,
     "metadata": {},
     "output_type": "execute_result"
    }
   ],
   "source": [
    "# Extracting total number of row\n",
    "total_rows = data.shape[0]\n",
    "total_rows"
   ]
  },
  {
   "cell_type": "code",
   "execution_count": 8,
   "metadata": {
    "scrolled": true
   },
   "outputs": [
    {
     "data": {
      "text/plain": [
       "id               0.000000\n",
       "region           0.000000\n",
       "price            0.000000\n",
       "year             0.282281\n",
       "manufacturer     4.133714\n",
       "model            1.236179\n",
       "condition       40.785232\n",
       "cylinders       41.622470\n",
       "fuel             0.705819\n",
       "odometer         1.030735\n",
       "title_status     1.930753\n",
       "transmission     0.598763\n",
       "VIN             37.725356\n",
       "drive           30.586347\n",
       "size            71.767476\n",
       "type            21.752717\n",
       "paint_color     30.501078\n",
       "state            0.000000\n",
       "dtype: float64"
      ]
     },
     "execution_count": 8,
     "metadata": {},
     "output_type": "execute_result"
    }
   ],
   "source": [
    "# Calculating the percentage of missing values\n",
    "data.isnull().sum()/total_rows * 100"
   ]
  },
  {
   "cell_type": "markdown",
   "metadata": {},
   "source": [
    "**Observations:**\n",
    "- The following columns are missing a sizeable amount of data:\n",
    "    - conditions (40.79%)\n",
    "    - cylinders (41.62%)\n",
    "    - VIN (37.73%)\n",
    "    - drive (30.59%)\n",
    "    - size (71.77%)\n",
    "    - type (21.75%)\n",
    "    - paint_color (30.50%)\n",
    "- We need to address these in data preparation"
   ]
  },
  {
   "cell_type": "code",
   "execution_count": 9,
   "metadata": {
    "scrolled": false
   },
   "outputs": [
    {
     "name": "stdout",
     "output_type": "stream",
     "text": [
      "Feature: manufacturer\n",
      "                 count percentage\n",
      "ford             70985      17.3%\n",
      "chevrolet        55064      13.5%\n",
      "toyota           34202       8.4%\n",
      "honda            21269       5.2%\n",
      "nissan           19067       4.7%\n",
      "jeep             19014       4.6%\n",
      "ram              18342       4.5%\n",
      "gmc              16785       4.1%\n",
      "bmw              14699       3.6%\n",
      "dodge            13707       3.3%\n",
      "mercedes-benz    11817       2.9%\n",
      "hyundai          10338       2.5%\n",
      "subaru            9495       2.3%\n",
      "volkswagen        9345       2.3%\n",
      "kia               8457       2.1%\n",
      "lexus             8200       2.0%\n",
      "audi              7573       1.9%\n",
      "cadillac          6953       1.7%\n",
      "chrysler          6031       1.5%\n",
      "acura             5978       1.5%\n",
      "buick             5501       1.3%\n",
      "mazda             5427       1.3%\n",
      "infiniti          4802       1.2%\n",
      "lincoln           4220       1.0%\n",
      "volvo             3374       0.8%\n",
      "mitsubishi        3292       0.8%\n",
      "mini              2376       0.6%\n",
      "pontiac           2288       0.6%\n",
      "rover             2113       0.5%\n",
      "jaguar            1946       0.5%\n",
      "porsche           1384       0.3%\n",
      "mercury           1184       0.3%\n",
      "saturn            1090       0.3%\n",
      "alfa-romeo         897       0.2%\n",
      "tesla              868       0.2%\n",
      "fiat               792       0.2%\n",
      "harley-davidson    153       0.0%\n",
      "ferrari             95       0.0%\n",
      "datsun              63       0.0%\n",
      "aston-martin        24       0.0%\n",
      "land rover          21       0.0%\n",
      "morgan               3       0.0% \n",
      "\n",
      "\n",
      "Feature: model\n",
      "                         count percentage\n",
      "f-150                     8009       1.9%\n",
      "silverado 1500            5140       1.2%\n",
      "1500                      4211       1.0%\n",
      "camry                     3135       0.7%\n",
      "silverado                 3023       0.7%\n",
      "...                        ...        ...\n",
      "plymouth fury 1              1       0.0%\n",
      "f550 box truck delivery      1       0.0%\n",
      "duramax 2500hd               1       0.0%\n",
      "3 s sport                    1       0.0%\n",
      "Paige Glenbrook Touring      1       0.0%\n",
      "\n",
      "[29649 rows x 2 columns] \n",
      "\n",
      "\n",
      "Feature: condition\n",
      "            count percentage\n",
      "good       121456      48.0%\n",
      "excellent  101467      40.1%\n",
      "like new    21178       8.4%\n",
      "fair         6769       2.7%\n",
      "new          1305       0.5%\n",
      "salvage       601       0.2% \n",
      "\n",
      "\n",
      "Feature: cylinders\n",
      "              count percentage\n",
      "6 cylinders   94169      37.8%\n",
      "4 cylinders   77642      31.2%\n",
      "8 cylinders   72062      28.9%\n",
      "5 cylinders    1712       0.7%\n",
      "10 cylinders   1455       0.6%\n",
      "other          1298       0.5%\n",
      "3 cylinders     655       0.3%\n",
      "12 cylinders    209       0.1% \n",
      "\n",
      "\n",
      "Feature: fuel\n",
      "           count percentage\n",
      "gas       356209      84.0%\n",
      "other      30728       7.2%\n",
      "diesel     30062       7.1%\n",
      "hybrid      5170       1.2%\n",
      "electric    1698       0.4% \n",
      "\n",
      "\n",
      "Feature: title_status\n",
      "             count percentage\n",
      "clean       405117      96.8%\n",
      "rebuilt       7219       1.7%\n",
      "salvage       3868       0.9%\n",
      "lien          1422       0.3%\n",
      "missing        814       0.2%\n",
      "parts only     198       0.0% \n",
      "\n",
      "\n",
      "Feature: transmission\n",
      "            count percentage\n",
      "automatic  336524      79.3%\n",
      "other       62682      14.8%\n",
      "manual      25118       5.9% \n",
      "\n",
      "\n",
      "Feature: drive\n",
      "      count percentage\n",
      "4wd  131904      44.5%\n",
      "fwd  105517      35.6%\n",
      "rwd   58892      19.9% \n",
      "\n",
      "\n",
      "Feature: size\n",
      "             count percentage\n",
      "full-size    63465      52.7%\n",
      "mid-size     34476      28.6%\n",
      "compact      19384      16.1%\n",
      "sub-compact   3194       2.7% \n",
      "\n",
      "\n",
      "Feature: type\n",
      "             count percentage\n",
      "sedan        87056      26.1%\n",
      "SUV          77284      23.1%\n",
      "pickup       43510      13.0%\n",
      "truck        35279      10.6%\n",
      "other        22110       6.6%\n",
      "coupe        19204       5.7%\n",
      "hatchback    16598       5.0%\n",
      "wagon        10751       3.2%\n",
      "van           8548       2.6%\n",
      "convertible   7731       2.3%\n",
      "mini-van      4825       1.4%\n",
      "offroad        609       0.2%\n",
      "bus            517       0.2% \n",
      "\n",
      "\n",
      "Feature: paint_color\n",
      "        count percentage\n",
      "white   79285      26.7%\n",
      "black   62861      21.2%\n",
      "silver  42970      14.5%\n",
      "blue    31223      10.5%\n",
      "red     30473      10.3%\n",
      "grey    24416       8.2%\n",
      "green    7343       2.5%\n",
      "custom   6700       2.3%\n",
      "brown    6593       2.2%\n",
      "yellow   2142       0.7%\n",
      "orange   1984       0.7%\n",
      "purple    687       0.2% \n",
      "\n",
      "\n",
      "Feature: region\n",
      "                         count percentage\n",
      "columbus                  3608       0.8%\n",
      "jacksonville              3562       0.8%\n",
      "spokane / coeur d'alene   2988       0.7%\n",
      "eugene                    2985       0.7%\n",
      "fresno / madera           2983       0.7%\n",
      "...                        ...        ...\n",
      "meridian                    28       0.0%\n",
      "southwest MS                14       0.0%\n",
      "kansas city                 11       0.0%\n",
      "fort smith, AR               9       0.0%\n",
      "west virginia (old)          8       0.0%\n",
      "\n",
      "[404 rows x 2 columns] \n",
      "\n",
      "\n"
     ]
    }
   ],
   "source": [
    "# Exploring unique values and correpsonding distribution for categorical features\n",
    "\n",
    "categorical_features = ['manufacturer', 'model', 'condition', 'cylinders', 'fuel', 'title_status', 'transmission', 'drive', 'size', 'type', 'paint_color', 'region']\n",
    "\n",
    "# using for each loop to display value counts for each class per feature\n",
    "for col in categorical_features:\n",
    "    counts = data[col].value_counts()\n",
    "    perc = (data[col].value_counts(normalize=True) * 100).round(1).astype(str) + '%'\n",
    "    print('Feature: ' + col)\n",
    "    print(pd.DataFrame({'count': counts, 'percentage': perc}), '\\n\\n')\n",
    "    "
   ]
  },
  {
   "cell_type": "code",
   "execution_count": 10,
   "metadata": {
    "scrolled": true
   },
   "outputs": [
    {
     "name": "stdout",
     "output_type": "stream",
     "text": [
      "Feature: price\n",
      "       count percentage\n",
      "0      32895       7.7%\n",
      "6995    3169       0.7%\n",
      "7995    3129       0.7%\n",
      "9995    2867       0.7%\n",
      "8995    2837       0.7%\n",
      "...      ...        ...\n",
      "21298      1       0.0%\n",
      "49217      1       0.0%\n",
      "63195      1       0.0%\n",
      "19709      1       0.0%\n",
      "17873      1       0.0%\n",
      "\n",
      "[15655 rows x 2 columns] \n",
      "\n",
      "\n",
      "Feature: year\n",
      "        count percentage\n",
      "2017.0  36420       8.6%\n",
      "2018.0  36369       8.5%\n",
      "2015.0  31538       7.4%\n",
      "2013.0  30794       7.2%\n",
      "2016.0  30434       7.1%\n",
      "...       ...        ...\n",
      "1943.0      1       0.0%\n",
      "1915.0      1       0.0%\n",
      "1902.0      1       0.0%\n",
      "1905.0      1       0.0%\n",
      "1909.0      1       0.0%\n",
      "\n",
      "[114 rows x 2 columns] \n",
      "\n",
      "\n",
      "Feature: odometer\n",
      "          count percentage\n",
      "100000.0   2263       0.5%\n",
      "1.0        2246       0.5%\n",
      "0.0        1965       0.5%\n",
      "200000.0   1728       0.4%\n",
      "150000.0   1603       0.4%\n",
      "...         ...        ...\n",
      "149468.0      1       0.0%\n",
      "154259.0      1       0.0%\n",
      "111887.0      1       0.0%\n",
      "213826.0      1       0.0%\n",
      "26892.0       1       0.0%\n",
      "\n",
      "[104870 rows x 2 columns] \n",
      "\n",
      "\n"
     ]
    }
   ],
   "source": [
    "# Exploring unique values and correpsonding distribution for categorical features\n",
    "\n",
    "numerical_features = ['price', 'year', 'odometer']\n",
    "for col in numerical_features:\n",
    "    counts = data[col].value_counts()\n",
    "    perc = (data[col].value_counts(normalize=True) * 100).round(1).astype(str) + '%'\n",
    "    print('Feature: ' + col)\n",
    "    print(pd.DataFrame({'count': counts, 'percentage': perc}), '\\n\\n')"
   ]
  },
  {
   "cell_type": "markdown",
   "metadata": {},
   "source": [
    "**Observations:**\n",
    "- Both price and odometer have large range of unique values\n",
    "- Interesting to see that 7.7% of cars have price of 0\n",
    "    - Need to determine how to address this during data preparation step"
   ]
  },
  {
   "cell_type": "code",
   "execution_count": 11,
   "metadata": {
    "scrolled": true
   },
   "outputs": [
    {
     "data": {
      "image/png": "[encoded data removed]",
      "text/plain": [
       "<Figure size 1000x600 with 1 Axes>"
      ]
     },
     "metadata": {},
     "output_type": "display_data"
    }
   ],
   "source": [
    "# Visualizing car price distribution\n",
    "plt.figure(figsize=(10, 6))  \n",
    "sns.histplot(data['price'], bins=30, color='skyblue', edgecolor='black') \n",
    "plt.title('Distribution of Car Price')\n",
    "plt.xlabel('Price')\n",
    "plt.ylabel('Count')\n",
    "plt.grid(True)\n",
    "plt.show()"
   ]
  },
  {
   "cell_type": "markdown",
   "metadata": {},
   "source": [
    "**Observations:**\n",
    "- the plot doesn't capture the distribution well since the most dominant price composes 7.7% of the column while the other prices compose 0.7% and 0%\n",
    "- will look at the distribution again once the data has been preprocessed "
   ]
  },
  {
   "cell_type": "code",
   "execution_count": 12,
   "metadata": {
    "scrolled": true
   },
   "outputs": [
    {
     "data": {
      "image/png": "[encoded data removed]",
      "text/plain": [
       "<Figure size 1000x600 with 1 Axes>"
      ]
     },
     "metadata": {},
     "output_type": "display_data"
    }
   ],
   "source": [
    "# Visualizing Odometer distribution\n",
    "plt.figure(figsize=(10, 6))  \n",
    "sns.histplot(data['odometer'], bins=30, color='skyblue', edgecolor='black') \n",
    "plt.title('Odometer Distribution')\n",
    "plt.xlabel('Odometer')\n",
    "plt.ylabel('Count')\n",
    "plt.grid(True)\n",
    "plt.show()"
   ]
  },
  {
   "cell_type": "markdown",
   "metadata": {},
   "source": [
    "**Observations**:\n",
    "- Similarly, we can't see the distribution of odometer values well"
   ]
  },
  {
   "cell_type": "markdown",
   "metadata": {},
   "source": [
    "Taking a quick look at correlation matrix:"
   ]
  },
  {
   "cell_type": "code",
   "execution_count": 13,
   "metadata": {
    "scrolled": true
   },
   "outputs": [
    {
     "data": {
      "image/png": "[encoded data removed]",
      "text/plain": [
       "<Figure size 1000x800 with 2 Axes>"
      ]
     },
     "metadata": {},
     "output_type": "display_data"
    }
   ],
   "source": [
    "# Calculate the correlation matrix\n",
    "correlation_matrix = data.corr()\n",
    "\n",
    "# visualizing correlation matrix\n",
    "plt.figure(figsize=(10, 8))  # Adjust the figure size as needed\n",
    "sns.heatmap(correlation_matrix, annot=True, cmap='coolwarm', fmt=\".2f\")\n",
    "plt.title('Correlation Plot')\n",
    "plt.show()"
   ]
  },
  {
   "cell_type": "markdown",
   "metadata": {},
   "source": [
    "**Observations:**\n",
    "- odometer has a weak positive correlation with price\n",
    "- price has a weak negative correlation with price"
   ]
  },
  {
   "cell_type": "markdown",
   "metadata": {},
   "source": [
    "### Data Preparation\n",
    "\n",
    "After our initial exploration and fine tuning of the business understanding, it is time to construct our final dataset prior to modeling.  Here, we want to make sure to handle any integrity issues and cleaning, the engineering of new features, any transformations that we believe should happen (scaling, logarithms, normalization, etc.), and general preparation for modeling with `sklearn`. "
   ]
  },
  {
   "cell_type": "markdown",
   "metadata": {},
   "source": [
    "### A. Dropping Features"
   ]
  },
  {
   "cell_type": "markdown",
   "metadata": {},
   "source": [
    "1. Dropping **irrelevant features**: \n",
    "- **VIN and id** are not relevant in determining car prices. Therefore, these features can be safely dropped."
   ]
  },
  {
   "cell_type": "code",
   "execution_count": 14,
   "metadata": {},
   "outputs": [],
   "source": [
    "# Remove features that are not considered relevant for predicting car prices\n",
    "data = data.drop(columns = ['VIN', 'id'], axis = 1)"
   ]
  },
  {
   "cell_type": "markdown",
   "metadata": {},
   "source": [
    "2. Dropping **features with missing data / not worth including**:\n",
    "- While **size** of car could be a good predictor for car price, **~71%** of data missing. One option would be to impute missing values. However, depending on how the values are imputed, there is a possiblity of introducing bias. Therefore, I have ultimately decided to remove this feature. \n",
    "- **Region** feature has 404 unique values. Additionally, each categories have less that 1% of total count. Given this distribution, I do not believe it is worth including this feature in the analysis. Therefore, I am dropping this feature. \n",
    "- **Model** also exhibits similar characteristics to Region mentioned above. For similar reasons, I have also decided to drop this feature."
   ]
  },
  {
   "cell_type": "code",
   "execution_count": 15,
   "metadata": {},
   "outputs": [],
   "source": [
    "# Dropping features mentioned about\n",
    "data = data.drop(columns = ['size', 'region', 'model'], axis = 1)"
   ]
  },
  {
   "cell_type": "code",
   "execution_count": 16,
   "metadata": {},
   "outputs": [],
   "source": [
    "# Dropping rows with null values\n",
    "data = data.dropna()"
   ]
  },
  {
   "cell_type": "code",
   "execution_count": 17,
   "metadata": {
    "scrolled": true
   },
   "outputs": [
    {
     "data": {
      "text/plain": [
       "<bound method DataFrame.info of         price    year manufacturer  condition    cylinders fuel  odometer  \\\n",
       "31      15000  2013.0         ford  excellent  6 cylinders  gas  128000.0   \n",
       "32      27990  2012.0          gmc       good  8 cylinders  gas   68696.0   \n",
       "33      34590  2016.0    chevrolet       good  6 cylinders  gas   29499.0   \n",
       "34      35000  2019.0       toyota  excellent  6 cylinders  gas   43000.0   \n",
       "35      29990  2016.0    chevrolet       good  6 cylinders  gas   17302.0   \n",
       "...       ...     ...          ...        ...          ...  ...       ...   \n",
       "426859  48590  2020.0     cadillac       good  6 cylinders  gas    7701.0   \n",
       "426860  39990  2017.0     infiniti       good  8 cylinders  gas   41664.0   \n",
       "426866  32990  2016.0     infiniti       good  8 cylinders  gas   55612.0   \n",
       "426874  33590  2018.0        lexus       good  6 cylinders  gas   30814.0   \n",
       "426878  28990  2018.0        lexus       good  6 cylinders  gas   30112.0   \n",
       "\n",
       "       title_status transmission drive    type paint_color state  \n",
       "31            clean    automatic   rwd   truck       black    al  \n",
       "32            clean        other   4wd  pickup       black    al  \n",
       "33            clean        other   4wd  pickup      silver    al  \n",
       "34            clean    automatic   4wd   truck        grey    al  \n",
       "35            clean        other   4wd  pickup         red    al  \n",
       "...             ...          ...   ...     ...         ...   ...  \n",
       "426859        clean        other   fwd   other       black    wy  \n",
       "426860        clean    automatic   4wd   other       black    wy  \n",
       "426866        clean    automatic   rwd   other       black    wy  \n",
       "426874        clean    automatic   rwd   sedan       white    wy  \n",
       "426878        clean        other   fwd   sedan      silver    wy  \n",
       "\n",
       "[117169 rows x 13 columns]>"
      ]
     },
     "execution_count": 17,
     "metadata": {},
     "output_type": "execute_result"
    }
   ],
   "source": [
    "data.info"
   ]
  },
  {
   "cell_type": "code",
   "execution_count": 18,
   "metadata": {},
   "outputs": [
    {
     "data": {
      "text/plain": [
       "(117169, 13)"
      ]
     },
     "execution_count": 18,
     "metadata": {},
     "output_type": "execute_result"
    }
   ],
   "source": [
    "data.shape"
   ]
  },
  {
   "cell_type": "markdown",
   "metadata": {},
   "source": [
    "### B. Handling categorical features"
   ]
  },
  {
   "cell_type": "markdown",
   "metadata": {},
   "source": [
    "3. We will convert the following categorical features into numerical features while preserving ordinal ranking:\n",
    "  - condition\n",
    "  - cylinders\n"
   ]
  },
  {
   "cell_type": "code",
   "execution_count": 19,
   "metadata": {},
   "outputs": [],
   "source": [
    "rename_condition = {'new': 5, 'like new': 4, 'excellent': 3, 'good' : 2, 'fair' : 1, 'salvage': 0}\n",
    "rename_cylinders = {'12 cylinders' : 12, '10 cylinders' : 10, '8 cylinders' : 8, '6 cylinders' : 6, '5 cylinders' : 5, '4 cylinders' : 4, '3 cylinders' : 3, 'other': 1}"
   ]
  },
  {
   "cell_type": "code",
   "execution_count": 20,
   "metadata": {},
   "outputs": [],
   "source": [
    "data['condition'] = data['condition'].map(rename_condition)"
   ]
  },
  {
   "cell_type": "code",
   "execution_count": 21,
   "metadata": {},
   "outputs": [],
   "source": [
    "data['cylinders'] = data['cylinders'].map(rename_cylinders)"
   ]
  },
  {
   "cell_type": "code",
   "execution_count": 22,
   "metadata": {
    "scrolled": true
   },
   "outputs": [
    {
     "name": "stdout",
     "output_type": "stream",
     "text": [
      "Feature: condition\n",
      "   count percentage\n",
      "3  52698      45.0%\n",
      "2  46997      40.1%\n",
      "4  12684      10.8%\n",
      "1   3861       3.3%\n",
      "5    623       0.5%\n",
      "0    306       0.3% \n",
      "\n",
      "\n",
      "Feature: cylinders\n",
      "    count percentage\n",
      "6   43425      37.1%\n",
      "4   35985      30.7%\n",
      "8   35350      30.2%\n",
      "5     930       0.8%\n",
      "10    883       0.8%\n",
      "1     315       0.3%\n",
      "3     218       0.2%\n",
      "12     63       0.1% \n",
      "\n",
      "\n"
     ]
    }
   ],
   "source": [
    "# Verify mapping correctly works\n",
    "converted_features = ['condition', 'cylinders']\n",
    "for col in converted_features:\n",
    "    counts = data[col].value_counts()\n",
    "    perc = (data[col].value_counts(normalize=True) * 100).round(1).astype(str) + '%'\n",
    "    print('Feature: ' + col)\n",
    "    print(pd.DataFrame({'count': counts, 'percentage': perc}), '\\n\\n')\n"
   ]
  },
  {
   "cell_type": "markdown",
   "metadata": {},
   "source": [
    "### C. Create new feature 'age' feature from 'year'"
   ]
  },
  {
   "cell_type": "markdown",
   "metadata": {},
   "source": [
    "4. It would be beneficial to think of car in terms of age rather than year. Therefore, creating new feature age from year."
   ]
  },
  {
   "cell_type": "code",
   "execution_count": 23,
   "metadata": {},
   "outputs": [],
   "source": [
    "current_year = datetime.now().year\n",
    "data['age'] = current_year - data['year']\n",
    "data.drop(columns = ['year'], inplace = True)"
   ]
  },
  {
   "cell_type": "markdown",
   "metadata": {},
   "source": [
    "### D. Removing samples with car prices equal to 0"
   ]
  },
  {
   "cell_type": "markdown",
   "metadata": {},
   "source": [
    "5. Remove car prices equal to 0"
   ]
  },
  {
   "cell_type": "code",
   "execution_count": 24,
   "metadata": {},
   "outputs": [],
   "source": [
    "# Filter out car price equal to 0\n",
    "df_filtered = data[data['price'] != 0]"
   ]
  },
  {
   "cell_type": "code",
   "execution_count": 25,
   "metadata": {
    "scrolled": true
   },
   "outputs": [
    {
     "data": {
      "text/html": [
       "<div>\n",
       "<style scoped>\n",
       "    .dataframe tbody tr th:only-of-type {\n",
       "        vertical-align: middle;\n",
       "    }\n",
       "\n",
       "    .dataframe tbody tr th {\n",
       "        vertical-align: top;\n",
       "    }\n",
       "\n",
       "    .dataframe thead th {\n",
       "        text-align: right;\n",
       "    }\n",
       "</style>\n",
       "<table border=\"1\" class=\"dataframe\">\n",
       "  <thead>\n",
       "    <tr style=\"text-align: right;\">\n",
       "      <th></th>\n",
       "      <th>price</th>\n",
       "      <th>manufacturer</th>\n",
       "      <th>condition</th>\n",
       "      <th>cylinders</th>\n",
       "      <th>fuel</th>\n",
       "      <th>odometer</th>\n",
       "      <th>title_status</th>\n",
       "      <th>transmission</th>\n",
       "      <th>drive</th>\n",
       "      <th>type</th>\n",
       "      <th>paint_color</th>\n",
       "      <th>state</th>\n",
       "      <th>age</th>\n",
       "    </tr>\n",
       "  </thead>\n",
       "  <tbody>\n",
       "    <tr>\n",
       "      <th>31</th>\n",
       "      <td>15000</td>\n",
       "      <td>ford</td>\n",
       "      <td>3</td>\n",
       "      <td>6</td>\n",
       "      <td>gas</td>\n",
       "      <td>128000.0</td>\n",
       "      <td>clean</td>\n",
       "      <td>automatic</td>\n",
       "      <td>rwd</td>\n",
       "      <td>truck</td>\n",
       "      <td>black</td>\n",
       "      <td>al</td>\n",
       "      <td>11.0</td>\n",
       "    </tr>\n",
       "    <tr>\n",
       "      <th>32</th>\n",
       "      <td>27990</td>\n",
       "      <td>gmc</td>\n",
       "      <td>2</td>\n",
       "      <td>8</td>\n",
       "      <td>gas</td>\n",
       "      <td>68696.0</td>\n",
       "      <td>clean</td>\n",
       "      <td>other</td>\n",
       "      <td>4wd</td>\n",
       "      <td>pickup</td>\n",
       "      <td>black</td>\n",
       "      <td>al</td>\n",
       "      <td>12.0</td>\n",
       "    </tr>\n",
       "    <tr>\n",
       "      <th>33</th>\n",
       "      <td>34590</td>\n",
       "      <td>chevrolet</td>\n",
       "      <td>2</td>\n",
       "      <td>6</td>\n",
       "      <td>gas</td>\n",
       "      <td>29499.0</td>\n",
       "      <td>clean</td>\n",
       "      <td>other</td>\n",
       "      <td>4wd</td>\n",
       "      <td>pickup</td>\n",
       "      <td>silver</td>\n",
       "      <td>al</td>\n",
       "      <td>8.0</td>\n",
       "    </tr>\n",
       "    <tr>\n",
       "      <th>34</th>\n",
       "      <td>35000</td>\n",
       "      <td>toyota</td>\n",
       "      <td>3</td>\n",
       "      <td>6</td>\n",
       "      <td>gas</td>\n",
       "      <td>43000.0</td>\n",
       "      <td>clean</td>\n",
       "      <td>automatic</td>\n",
       "      <td>4wd</td>\n",
       "      <td>truck</td>\n",
       "      <td>grey</td>\n",
       "      <td>al</td>\n",
       "      <td>5.0</td>\n",
       "    </tr>\n",
       "    <tr>\n",
       "      <th>35</th>\n",
       "      <td>29990</td>\n",
       "      <td>chevrolet</td>\n",
       "      <td>2</td>\n",
       "      <td>6</td>\n",
       "      <td>gas</td>\n",
       "      <td>17302.0</td>\n",
       "      <td>clean</td>\n",
       "      <td>other</td>\n",
       "      <td>4wd</td>\n",
       "      <td>pickup</td>\n",
       "      <td>red</td>\n",
       "      <td>al</td>\n",
       "      <td>8.0</td>\n",
       "    </tr>\n",
       "    <tr>\n",
       "      <th>...</th>\n",
       "      <td>...</td>\n",
       "      <td>...</td>\n",
       "      <td>...</td>\n",
       "      <td>...</td>\n",
       "      <td>...</td>\n",
       "      <td>...</td>\n",
       "      <td>...</td>\n",
       "      <td>...</td>\n",
       "      <td>...</td>\n",
       "      <td>...</td>\n",
       "      <td>...</td>\n",
       "      <td>...</td>\n",
       "      <td>...</td>\n",
       "    </tr>\n",
       "    <tr>\n",
       "      <th>426859</th>\n",
       "      <td>48590</td>\n",
       "      <td>cadillac</td>\n",
       "      <td>2</td>\n",
       "      <td>6</td>\n",
       "      <td>gas</td>\n",
       "      <td>7701.0</td>\n",
       "      <td>clean</td>\n",
       "      <td>other</td>\n",
       "      <td>fwd</td>\n",
       "      <td>other</td>\n",
       "      <td>black</td>\n",
       "      <td>wy</td>\n",
       "      <td>4.0</td>\n",
       "    </tr>\n",
       "    <tr>\n",
       "      <th>426860</th>\n",
       "      <td>39990</td>\n",
       "      <td>infiniti</td>\n",
       "      <td>2</td>\n",
       "      <td>8</td>\n",
       "      <td>gas</td>\n",
       "      <td>41664.0</td>\n",
       "      <td>clean</td>\n",
       "      <td>automatic</td>\n",
       "      <td>4wd</td>\n",
       "      <td>other</td>\n",
       "      <td>black</td>\n",
       "      <td>wy</td>\n",
       "      <td>7.0</td>\n",
       "    </tr>\n",
       "    <tr>\n",
       "      <th>426866</th>\n",
       "      <td>32990</td>\n",
       "      <td>infiniti</td>\n",
       "      <td>2</td>\n",
       "      <td>8</td>\n",
       "      <td>gas</td>\n",
       "      <td>55612.0</td>\n",
       "      <td>clean</td>\n",
       "      <td>automatic</td>\n",
       "      <td>rwd</td>\n",
       "      <td>other</td>\n",
       "      <td>black</td>\n",
       "      <td>wy</td>\n",
       "      <td>8.0</td>\n",
       "    </tr>\n",
       "    <tr>\n",
       "      <th>426874</th>\n",
       "      <td>33590</td>\n",
       "      <td>lexus</td>\n",
       "      <td>2</td>\n",
       "      <td>6</td>\n",
       "      <td>gas</td>\n",
       "      <td>30814.0</td>\n",
       "      <td>clean</td>\n",
       "      <td>automatic</td>\n",
       "      <td>rwd</td>\n",
       "      <td>sedan</td>\n",
       "      <td>white</td>\n",
       "      <td>wy</td>\n",
       "      <td>6.0</td>\n",
       "    </tr>\n",
       "    <tr>\n",
       "      <th>426878</th>\n",
       "      <td>28990</td>\n",
       "      <td>lexus</td>\n",
       "      <td>2</td>\n",
       "      <td>6</td>\n",
       "      <td>gas</td>\n",
       "      <td>30112.0</td>\n",
       "      <td>clean</td>\n",
       "      <td>other</td>\n",
       "      <td>fwd</td>\n",
       "      <td>sedan</td>\n",
       "      <td>silver</td>\n",
       "      <td>wy</td>\n",
       "      <td>6.0</td>\n",
       "    </tr>\n",
       "  </tbody>\n",
       "</table>\n",
       "<p>112796 rows × 13 columns</p>\n",
       "</div>"
      ],
      "text/plain": [
       "        price manufacturer  condition  cylinders fuel  odometer title_status  \\\n",
       "31      15000         ford          3          6  gas  128000.0        clean   \n",
       "32      27990          gmc          2          8  gas   68696.0        clean   \n",
       "33      34590    chevrolet          2          6  gas   29499.0        clean   \n",
       "34      35000       toyota          3          6  gas   43000.0        clean   \n",
       "35      29990    chevrolet          2          6  gas   17302.0        clean   \n",
       "...       ...          ...        ...        ...  ...       ...          ...   \n",
       "426859  48590     cadillac          2          6  gas    7701.0        clean   \n",
       "426860  39990     infiniti          2          8  gas   41664.0        clean   \n",
       "426866  32990     infiniti          2          8  gas   55612.0        clean   \n",
       "426874  33590        lexus          2          6  gas   30814.0        clean   \n",
       "426878  28990        lexus          2          6  gas   30112.0        clean   \n",
       "\n",
       "       transmission drive    type paint_color state   age  \n",
       "31        automatic   rwd   truck       black    al  11.0  \n",
       "32            other   4wd  pickup       black    al  12.0  \n",
       "33            other   4wd  pickup      silver    al   8.0  \n",
       "34        automatic   4wd   truck        grey    al   5.0  \n",
       "35            other   4wd  pickup         red    al   8.0  \n",
       "...             ...   ...     ...         ...   ...   ...  \n",
       "426859        other   fwd   other       black    wy   4.0  \n",
       "426860    automatic   4wd   other       black    wy   7.0  \n",
       "426866    automatic   rwd   other       black    wy   8.0  \n",
       "426874    automatic   rwd   sedan       white    wy   6.0  \n",
       "426878        other   fwd   sedan      silver    wy   6.0  \n",
       "\n",
       "[112796 rows x 13 columns]"
      ]
     },
     "execution_count": 25,
     "metadata": {},
     "output_type": "execute_result"
    }
   ],
   "source": [
    "df_filtered"
   ]
  },
  {
   "cell_type": "code",
   "execution_count": 26,
   "metadata": {
    "scrolled": true
   },
   "outputs": [
    {
     "name": "stdout",
     "output_type": "stream",
     "text": [
      "<class 'pandas.core.frame.DataFrame'>\n",
      "Int64Index: 112796 entries, 31 to 426878\n",
      "Data columns (total 13 columns):\n",
      " #   Column        Non-Null Count   Dtype  \n",
      "---  ------        --------------   -----  \n",
      " 0   price         112796 non-null  int64  \n",
      " 1   manufacturer  112796 non-null  object \n",
      " 2   condition     112796 non-null  int64  \n",
      " 3   cylinders     112796 non-null  int64  \n",
      " 4   fuel          112796 non-null  object \n",
      " 5   odometer      112796 non-null  float64\n",
      " 6   title_status  112796 non-null  object \n",
      " 7   transmission  112796 non-null  object \n",
      " 8   drive         112796 non-null  object \n",
      " 9   type          112796 non-null  object \n",
      " 10  paint_color   112796 non-null  object \n",
      " 11  state         112796 non-null  object \n",
      " 12  age           112796 non-null  float64\n",
      "dtypes: float64(2), int64(3), object(8)\n",
      "memory usage: 12.0+ MB\n"
     ]
    }
   ],
   "source": [
    "df_filtered.info()"
   ]
  },
  {
   "cell_type": "markdown",
   "metadata": {},
   "source": [
    "### E. One hot encode categorical features"
   ]
  },
  {
   "cell_type": "markdown",
   "metadata": {},
   "source": [
    "The following categorical values do not have any ordinal ranking. Therefore, we can apply one hot encoding on the following features."
   ]
  },
  {
   "cell_type": "code",
   "execution_count": 27,
   "metadata": {},
   "outputs": [],
   "source": [
    "ohe_features = ['manufacturer', 'fuel', 'title_status', 'transmission', 'drive', 'type', 'paint_color', 'state']\n",
    "\n",
    "df_final = pd.get_dummies(df_filtered, columns=ohe_features)"
   ]
  },
  {
   "cell_type": "markdown",
   "metadata": {},
   "source": [
    "### F. Remove outliers"
   ]
  },
  {
   "cell_type": "markdown",
   "metadata": {},
   "source": [
    "Noticed that features like odometer and price have huge range of values. The goal of this section is to reduce the number of samples that will be used by the predictive model. In other words, the aim is to choose a subset of the dat that will be sufficient for predicting car prices. To figure out the appropriate boundaries, I decided to explore the lower bound and upper bounds (using IQR) as well look at the min, median, and max values for each respective feature."
   ]
  },
  {
   "cell_type": "code",
   "execution_count": 28,
   "metadata": {},
   "outputs": [
    {
     "name": "stdout",
     "output_type": "stream",
     "text": [
      "Lower bound:  -82723.0\n",
      "Upper bound:  287405.0\n"
     ]
    }
   ],
   "source": [
    "# Exploring lower bound and upper bound using IQR of \n",
    "Q1 = df_final['odometer'].quantile(0.25)\n",
    "Q3 = df_final['odometer'].quantile(0.75)\n",
    "\n",
    "# Calculate the Interquartile Range (IQR)\n",
    "IQR = Q3 - Q1\n",
    "\n",
    "# Define the lower and upper bounds for outliers\n",
    "lower_bound_odometer = Q1 - 1.5 * IQR\n",
    "upper_bound_odometer = Q3 + 1.5 * IQR\n",
    "\n",
    "# Filter the DataFrame to retain only values within the lower and upper bounds\n",
    "print('Lower bound: ', lower_bound_odometer)\n",
    "print('Upper bound: ', upper_bound_odometer)\n"
   ]
  },
  {
   "cell_type": "code",
   "execution_count": 29,
   "metadata": {},
   "outputs": [
    {
     "name": "stdout",
     "output_type": "stream",
     "text": [
      "Lower bound:  -20242.5\n",
      "Upper bound:  49737.5\n"
     ]
    }
   ],
   "source": [
    "# Exploring lower bound and upper bound using IQR of \n",
    "Q1 = df_final['price'].quantile(0.25)\n",
    "Q3 = df_final['price'].quantile(0.75)\n",
    "\n",
    "# Calculate the Interquartile Range (IQR)\n",
    "IQR = Q3 - Q1\n",
    "\n",
    "# Define the lower and upper bounds for outliers\n",
    "lower_bound_price = Q1 - 1.5 * IQR\n",
    "upper_bound_price = Q3 + 1.5 * IQR\n",
    "\n",
    "# Filter the DataFrame to retain only values within the lower and upper bounds\n",
    "print('Lower bound: ', lower_bound_price)\n",
    "print('Upper bound: ', upper_bound_price)"
   ]
  },
  {
   "cell_type": "code",
   "execution_count": 30,
   "metadata": {},
   "outputs": [],
   "source": [
    "# Creating function to explore range of values\n",
    "def display_min_median_max(df, feature_name):\n",
    "    min_value = df[feature_name].min()\n",
    "    median_value = df[feature_name].median()\n",
    "    max_value = df[feature_name].max()\n",
    "    \n",
    "    print(f\"Summary for feature '{feature_name}':\")\n",
    "    print(f\"Minimum value: {min_value}\")\n",
    "    print(f\"Median value: {median_value}\")\n",
    "    print(f\"Maximum value: {max_value}\")"
   ]
  },
  {
   "cell_type": "code",
   "execution_count": 31,
   "metadata": {
    "scrolled": true
   },
   "outputs": [
    {
     "name": "stdout",
     "output_type": "stream",
     "text": [
      "Summary for feature 'odometer':\n",
      "Minimum value: 0.0\n",
      "Median value: 103257.0\n",
      "Maximum value: 10000000.0\n"
     ]
    }
   ],
   "source": [
    "display_min_median_max(df_final, 'odometer')"
   ]
  },
  {
   "cell_type": "code",
   "execution_count": 32,
   "metadata": {},
   "outputs": [
    {
     "name": "stdout",
     "output_type": "stream",
     "text": [
      "Summary for feature 'price':\n",
      "Minimum value: 1\n",
      "Median value: 11500.0\n",
      "Maximum value: 3736928711\n"
     ]
    }
   ],
   "source": [
    "display_min_median_max(df_final, 'price')"
   ]
  },
  {
   "cell_type": "markdown",
   "metadata": {},
   "source": [
    "The following values chosen for the boundaries were adjusted through experimentation:"
   ]
  },
  {
   "cell_type": "code",
   "execution_count": 33,
   "metadata": {},
   "outputs": [],
   "source": [
    "df_final=df_final[(df_final['odometer'] < upper_bound_odometer) & (df_final['price'] > 500) & (df_final['price'] < 200000)];"
   ]
  },
  {
   "cell_type": "code",
   "execution_count": 34,
   "metadata": {
    "scrolled": false
   },
   "outputs": [
    {
     "data": {
      "image/png": "[encoded data removed]",
      "text/plain": [
       "<Figure size 640x480 with 1 Axes>"
      ]
     },
     "metadata": {},
     "output_type": "display_data"
    }
   ],
   "source": [
    "# Visualizing distribution of odometer after preprocessing\n",
    "df_final['odometer'].plot(kind='hist', bins=20, color='skyblue', edgecolor='black')\n",
    "plt.xlabel('Odometer Values')\n",
    "plt.ylabel('Frequency')\n",
    "plt.title('Distribution of Odometer Values')\n",
    "plt.show()"
   ]
  },
  {
   "cell_type": "markdown",
   "metadata": {},
   "source": [
    "**Observations**:\n",
    "- We can now see the dsitribution of odometer much more clearly after preprocessing"
   ]
  },
  {
   "cell_type": "code",
   "execution_count": 35,
   "metadata": {},
   "outputs": [
    {
     "data": {
      "image/png": "[encoded data removed]",
      "text/plain": [
       "<Figure size 640x480 with 1 Axes>"
      ]
     },
     "metadata": {},
     "output_type": "display_data"
    }
   ],
   "source": [
    "# Visualizing distribution of Car Prices after preprocessing\n",
    "df_final['price'].plot(kind='hist', bins=20, color='skyblue', edgecolor='black')\n",
    "plt.xlabel('Price Distribution')\n",
    "plt.ylabel('Count')\n",
    "plt.title('Distribution of Car Prices')\n",
    "plt.show()"
   ]
  },
  {
   "cell_type": "markdown",
   "metadata": {},
   "source": [
    "**Observations**:\n",
    "- We can see that the price distribution is right-skewed.\n",
    "- This suggests that we should apply log transformation to the price to reduce skewness"
   ]
  },
  {
   "cell_type": "code",
   "execution_count": 36,
   "metadata": {
    "scrolled": true
   },
   "outputs": [
    {
     "data": {
      "image/png": "[encoded data removed]",
      "text/plain": [
       "<Figure size 640x480 with 1 Axes>"
      ]
     },
     "metadata": {},
     "output_type": "display_data"
    }
   ],
   "source": [
    "# Applying log transformation and viewing distribution\n",
    "np.log(df_final['price']).plot(kind='hist', bins=20, color='skyblue', edgecolor='black')\n",
    "plt.xlabel('Price Distribution (log transformed)')\n",
    "plt.ylabel('Count')\n",
    "plt.title('Distribution of Car Prices')\n",
    "plt.show()"
   ]
  },
  {
   "cell_type": "markdown",
   "metadata": {},
   "source": [
    "**Observations:**\n",
    "- We can observe that applying log transformation helped reduce skewness.\n",
    "- We will use the log transformation of price in the next step (modeling)"
   ]
  },
  {
   "cell_type": "markdown",
   "metadata": {},
   "source": [
    "### Modeling\n",
    "\n",
    "With your (almost?) final dataset in hand, it is now time to build some models.  Here, you should build a number of different regression models with the price as the target.  In building your models, you should explore different parameters and be sure to cross-validate your findings."
   ]
  },
  {
   "cell_type": "markdown",
   "metadata": {},
   "source": [
    "Before we build the models, we first need to extract the dependent variable (price) in variable y while variable x will contain the independent variables."
   ]
  },
  {
   "cell_type": "code",
   "execution_count": 37,
   "metadata": {},
   "outputs": [],
   "source": [
    "# Create X and y sets used for modeling\n",
    "y = df_final['price'].astype(float);\n",
    "X = df_final.drop(columns='price', axis=1)"
   ]
  },
  {
   "cell_type": "code",
   "execution_count": 38,
   "metadata": {},
   "outputs": [],
   "source": [
    "#split the dataset into training set and test set\n",
    "# Applying log transformation to target variable to reduce skewness\n",
    "X_train, X_test, y_train, y_test = train_test_split(X, np.log(y), random_state = 42);"
   ]
  },
  {
   "cell_type": "markdown",
   "metadata": {},
   "source": [
    "In this section, I'll be building three models:\n",
    "1. Linear Regression with SequentialFeatureSelector\n",
    "2. Ridge Regression with GridSearchCV\n",
    "3. Lasso Regression with GridSearchCV\n",
    "\n",
    "For each model, we will also assess cross-validation score."
   ]
  },
  {
   "cell_type": "markdown",
   "metadata": {},
   "source": [
    "### 1. Linear Regression (2 models)"
   ]
  },
  {
   "cell_type": "markdown",
   "metadata": {
    "scrolled": true
   },
   "source": [
    "a. Linear Regression"
   ]
  },
  {
   "cell_type": "code",
   "execution_count": 39,
   "metadata": {
    "scrolled": false
   },
   "outputs": [
    {
     "name": "stdout",
     "output_type": "stream",
     "text": [
      "Train MSE: 0.2324335214108576\n",
      "Test MSE: 4.466281688553043e+18\n"
     ]
    },
    {
     "data": {
      "text/html": [
       "<style>#sk-e7c51c7f-41ce-46c9-8903-43d66ef69273 {color: black;background-color: white;}#sk-e7c51c7f-41ce-46c9-8903-43d66ef69273 pre{padding: 0;}#sk-e7c51c7f-41ce-46c9-8903-43d66ef69273 div.sk-toggleable {background-color: white;}#sk-e7c51c7f-41ce-46c9-8903-43d66ef69273 label.sk-toggleable__label {cursor: pointer;display: block;width: 100%;margin-bottom: 0;padding: 0.3em;box-sizing: border-box;text-align: center;}#sk-e7c51c7f-41ce-46c9-8903-43d66ef69273 label.sk-toggleable__label-arrow:before {content: \"▸\";float: left;margin-right: 0.25em;color: #696969;}#sk-e7c51c7f-41ce-46c9-8903-43d66ef69273 label.sk-toggleable__label-arrow:hover:before {color: black;}#sk-e7c51c7f-41ce-46c9-8903-43d66ef69273 div.sk-estimator:hover label.sk-toggleable__label-arrow:before {color: black;}#sk-e7c51c7f-41ce-46c9-8903-43d66ef69273 div.sk-toggleable__content {max-height: 0;max-width: 0;overflow: hidden;text-align: left;background-color: #f0f8ff;}#sk-e7c51c7f-41ce-46c9-8903-43d66ef69273 div.sk-toggleable__content pre {margin: 0.2em;color: black;border-radius: 0.25em;background-color: #f0f8ff;}#sk-e7c51c7f-41ce-46c9-8903-43d66ef69273 input.sk-toggleable__control:checked~div.sk-toggleable__content {max-height: 200px;max-width: 100%;overflow: auto;}#sk-e7c51c7f-41ce-46c9-8903-43d66ef69273 input.sk-toggleable__control:checked~label.sk-toggleable__label-arrow:before {content: \"▾\";}#sk-e7c51c7f-41ce-46c9-8903-43d66ef69273 div.sk-estimator input.sk-toggleable__control:checked~label.sk-toggleable__label {background-color: #d4ebff;}#sk-e7c51c7f-41ce-46c9-8903-43d66ef69273 div.sk-label input.sk-toggleable__control:checked~label.sk-toggleable__label {background-color: #d4ebff;}#sk-e7c51c7f-41ce-46c9-8903-43d66ef69273 input.sk-hidden--visually {border: 0;clip: rect(1px 1px 1px 1px);clip: rect(1px, 1px, 1px, 1px);height: 1px;margin: -1px;overflow: hidden;padding: 0;position: absolute;width: 1px;}#sk-e7c51c7f-41ce-46c9-8903-43d66ef69273 div.sk-estimator {font-family: monospace;background-color: #f0f8ff;border: 1px dotted black;border-radius: 0.25em;box-sizing: border-box;margin-bottom: 0.5em;}#sk-e7c51c7f-41ce-46c9-8903-43d66ef69273 div.sk-estimator:hover {background-color: #d4ebff;}#sk-e7c51c7f-41ce-46c9-8903-43d66ef69273 div.sk-parallel-item::after {content: \"\";width: 100%;border-bottom: 1px solid gray;flex-grow: 1;}#sk-e7c51c7f-41ce-46c9-8903-43d66ef69273 div.sk-label:hover label.sk-toggleable__label {background-color: #d4ebff;}#sk-e7c51c7f-41ce-46c9-8903-43d66ef69273 div.sk-serial::before {content: \"\";position: absolute;border-left: 1px solid gray;box-sizing: border-box;top: 2em;bottom: 0;left: 50%;}#sk-e7c51c7f-41ce-46c9-8903-43d66ef69273 div.sk-serial {display: flex;flex-direction: column;align-items: center;background-color: white;padding-right: 0.2em;padding-left: 0.2em;}#sk-e7c51c7f-41ce-46c9-8903-43d66ef69273 div.sk-item {z-index: 1;}#sk-e7c51c7f-41ce-46c9-8903-43d66ef69273 div.sk-parallel {display: flex;align-items: stretch;justify-content: center;background-color: white;}#sk-e7c51c7f-41ce-46c9-8903-43d66ef69273 div.sk-parallel::before {content: \"\";position: absolute;border-left: 1px solid gray;box-sizing: border-box;top: 2em;bottom: 0;left: 50%;}#sk-e7c51c7f-41ce-46c9-8903-43d66ef69273 div.sk-parallel-item {display: flex;flex-direction: column;position: relative;background-color: white;}#sk-e7c51c7f-41ce-46c9-8903-43d66ef69273 div.sk-parallel-item:first-child::after {align-self: flex-end;width: 50%;}#sk-e7c51c7f-41ce-46c9-8903-43d66ef69273 div.sk-parallel-item:last-child::after {align-self: flex-start;width: 50%;}#sk-e7c51c7f-41ce-46c9-8903-43d66ef69273 div.sk-parallel-item:only-child::after {width: 0;}#sk-e7c51c7f-41ce-46c9-8903-43d66ef69273 div.sk-dashed-wrapped {border: 1px dashed gray;margin: 0 0.4em 0.5em 0.4em;box-sizing: border-box;padding-bottom: 0.4em;background-color: white;position: relative;}#sk-e7c51c7f-41ce-46c9-8903-43d66ef69273 div.sk-label label {font-family: monospace;font-weight: bold;background-color: white;display: inline-block;line-height: 1.2em;}#sk-e7c51c7f-41ce-46c9-8903-43d66ef69273 div.sk-label-container {position: relative;z-index: 2;text-align: center;}#sk-e7c51c7f-41ce-46c9-8903-43d66ef69273 div.sk-container {/* jupyter's `normalize.less` sets `[hidden] { display: none; }` but bootstrap.min.css set `[hidden] { display: none !important; }` so we also need the `!important` here to be able to override the default hidden behavior on the sphinx rendered scikit-learn.org. See: https://github.com/scikit-learn/scikit-learn/issues/21755 */display: inline-block !important;position: relative;}#sk-e7c51c7f-41ce-46c9-8903-43d66ef69273 div.sk-text-repr-fallback {display: none;}</style><div id=\"sk-e7c51c7f-41ce-46c9-8903-43d66ef69273\" class=\"sk-top-container\"><div class=\"sk-text-repr-fallback\"><pre>Pipeline(steps=[(&#x27;scaler&#x27;, StandardScaler()), (&#x27;linear&#x27;, LinearRegression())])</pre><b>Please rerun this cell to show the HTML repr or trust the notebook.</b></div><div class=\"sk-container\" hidden><div class=\"sk-item sk-dashed-wrapped\"><div class=\"sk-label-container\"><div class=\"sk-label sk-toggleable\"><input class=\"sk-toggleable__control sk-hidden--visually\" id=\"36d00e04-e76f-4a28-bd8a-cf5d5ddf64d5\" type=\"checkbox\" ><label for=\"36d00e04-e76f-4a28-bd8a-cf5d5ddf64d5\" class=\"sk-toggleable__label sk-toggleable__label-arrow\">Pipeline</label><div class=\"sk-toggleable__content\"><pre>Pipeline(steps=[(&#x27;scaler&#x27;, StandardScaler()), (&#x27;linear&#x27;, LinearRegression())])</pre></div></div></div><div class=\"sk-serial\"><div class=\"sk-item\"><div class=\"sk-estimator sk-toggleable\"><input class=\"sk-toggleable__control sk-hidden--visually\" id=\"2212f334-97a2-4195-ba5d-98d9bf5eed54\" type=\"checkbox\" ><label for=\"2212f334-97a2-4195-ba5d-98d9bf5eed54\" class=\"sk-toggleable__label sk-toggleable__label-arrow\">StandardScaler</label><div class=\"sk-toggleable__content\"><pre>StandardScaler()</pre></div></div></div><div class=\"sk-item\"><div class=\"sk-estimator sk-toggleable\"><input class=\"sk-toggleable__control sk-hidden--visually\" id=\"f1987095-2f22-42dd-af35-5c02569f483a\" type=\"checkbox\" ><label for=\"f1987095-2f22-42dd-af35-5c02569f483a\" class=\"sk-toggleable__label sk-toggleable__label-arrow\">LinearRegression</label><div class=\"sk-toggleable__content\"><pre>LinearRegression()</pre></div></div></div></div></div></div></div>"
      ],
      "text/plain": [
       "Pipeline(steps=[('scaler', StandardScaler()), ('linear', LinearRegression())])"
      ]
     },
     "execution_count": 39,
     "metadata": {},
     "output_type": "execute_result"
    }
   ],
   "source": [
    "linreg_pipe = Pipeline([('scaler', StandardScaler()), \n",
    "                      ('linear', LinearRegression())])\n",
    "\n",
    "linreg_pipe.fit(X_train, y_train)\n",
    "\n",
    "linreg_train_preds = linreg_pipe.predict(X_train)\n",
    "linreg_test_preds = linreg_pipe.predict(X_test)\n",
    "linreg_train_mse = mean_squared_error(y_train, linreg_train_preds)\n",
    "linreg_test_mse = mean_squared_error(y_test, linreg_test_preds)\n",
    "\n",
    "# Using MSE as evaluation metric which measures magnitude of error (predicted v.s actual value)\n",
    "print(f'Train MSE: {linreg_train_mse}')\n",
    "print(f'Test MSE: {linreg_test_mse}')\n",
    "linreg_pipe"
   ]
  },
  {
   "cell_type": "markdown",
   "metadata": {},
   "source": [
    "**Observations:**\n",
    "- The value returned for Test MSE is extremely high so I do not believe this is a suitable model for determining car prices."
   ]
  },
  {
   "cell_type": "markdown",
   "metadata": {},
   "source": [
    "b. Linear regression with SequentialFeatureSelector"
   ]
  },
  {
   "cell_type": "code",
   "execution_count": 40,
   "metadata": {},
   "outputs": [
    {
     "data": {
      "text/html": [
       "<style>#sk-4f1f8a1c-f2a5-4a6a-a68a-e2c5a2a810a7 {color: black;background-color: white;}#sk-4f1f8a1c-f2a5-4a6a-a68a-e2c5a2a810a7 pre{padding: 0;}#sk-4f1f8a1c-f2a5-4a6a-a68a-e2c5a2a810a7 div.sk-toggleable {background-color: white;}#sk-4f1f8a1c-f2a5-4a6a-a68a-e2c5a2a810a7 label.sk-toggleable__label {cursor: pointer;display: block;width: 100%;margin-bottom: 0;padding: 0.3em;box-sizing: border-box;text-align: center;}#sk-4f1f8a1c-f2a5-4a6a-a68a-e2c5a2a810a7 label.sk-toggleable__label-arrow:before {content: \"▸\";float: left;margin-right: 0.25em;color: #696969;}#sk-4f1f8a1c-f2a5-4a6a-a68a-e2c5a2a810a7 label.sk-toggleable__label-arrow:hover:before {color: black;}#sk-4f1f8a1c-f2a5-4a6a-a68a-e2c5a2a810a7 div.sk-estimator:hover label.sk-toggleable__label-arrow:before {color: black;}#sk-4f1f8a1c-f2a5-4a6a-a68a-e2c5a2a810a7 div.sk-toggleable__content {max-height: 0;max-width: 0;overflow: hidden;text-align: left;background-color: #f0f8ff;}#sk-4f1f8a1c-f2a5-4a6a-a68a-e2c5a2a810a7 div.sk-toggleable__content pre {margin: 0.2em;color: black;border-radius: 0.25em;background-color: #f0f8ff;}#sk-4f1f8a1c-f2a5-4a6a-a68a-e2c5a2a810a7 input.sk-toggleable__control:checked~div.sk-toggleable__content {max-height: 200px;max-width: 100%;overflow: auto;}#sk-4f1f8a1c-f2a5-4a6a-a68a-e2c5a2a810a7 input.sk-toggleable__control:checked~label.sk-toggleable__label-arrow:before {content: \"▾\";}#sk-4f1f8a1c-f2a5-4a6a-a68a-e2c5a2a810a7 div.sk-estimator input.sk-toggleable__control:checked~label.sk-toggleable__label {background-color: #d4ebff;}#sk-4f1f8a1c-f2a5-4a6a-a68a-e2c5a2a810a7 div.sk-label input.sk-toggleable__control:checked~label.sk-toggleable__label {background-color: #d4ebff;}#sk-4f1f8a1c-f2a5-4a6a-a68a-e2c5a2a810a7 input.sk-hidden--visually {border: 0;clip: rect(1px 1px 1px 1px);clip: rect(1px, 1px, 1px, 1px);height: 1px;margin: -1px;overflow: hidden;padding: 0;position: absolute;width: 1px;}#sk-4f1f8a1c-f2a5-4a6a-a68a-e2c5a2a810a7 div.sk-estimator {font-family: monospace;background-color: #f0f8ff;border: 1px dotted black;border-radius: 0.25em;box-sizing: border-box;margin-bottom: 0.5em;}#sk-4f1f8a1c-f2a5-4a6a-a68a-e2c5a2a810a7 div.sk-estimator:hover {background-color: #d4ebff;}#sk-4f1f8a1c-f2a5-4a6a-a68a-e2c5a2a810a7 div.sk-parallel-item::after {content: \"\";width: 100%;border-bottom: 1px solid gray;flex-grow: 1;}#sk-4f1f8a1c-f2a5-4a6a-a68a-e2c5a2a810a7 div.sk-label:hover label.sk-toggleable__label {background-color: #d4ebff;}#sk-4f1f8a1c-f2a5-4a6a-a68a-e2c5a2a810a7 div.sk-serial::before {content: \"\";position: absolute;border-left: 1px solid gray;box-sizing: border-box;top: 2em;bottom: 0;left: 50%;}#sk-4f1f8a1c-f2a5-4a6a-a68a-e2c5a2a810a7 div.sk-serial {display: flex;flex-direction: column;align-items: center;background-color: white;padding-right: 0.2em;padding-left: 0.2em;}#sk-4f1f8a1c-f2a5-4a6a-a68a-e2c5a2a810a7 div.sk-item {z-index: 1;}#sk-4f1f8a1c-f2a5-4a6a-a68a-e2c5a2a810a7 div.sk-parallel {display: flex;align-items: stretch;justify-content: center;background-color: white;}#sk-4f1f8a1c-f2a5-4a6a-a68a-e2c5a2a810a7 div.sk-parallel::before {content: \"\";position: absolute;border-left: 1px solid gray;box-sizing: border-box;top: 2em;bottom: 0;left: 50%;}#sk-4f1f8a1c-f2a5-4a6a-a68a-e2c5a2a810a7 div.sk-parallel-item {display: flex;flex-direction: column;position: relative;background-color: white;}#sk-4f1f8a1c-f2a5-4a6a-a68a-e2c5a2a810a7 div.sk-parallel-item:first-child::after {align-self: flex-end;width: 50%;}#sk-4f1f8a1c-f2a5-4a6a-a68a-e2c5a2a810a7 div.sk-parallel-item:last-child::after {align-self: flex-start;width: 50%;}#sk-4f1f8a1c-f2a5-4a6a-a68a-e2c5a2a810a7 div.sk-parallel-item:only-child::after {width: 0;}#sk-4f1f8a1c-f2a5-4a6a-a68a-e2c5a2a810a7 div.sk-dashed-wrapped {border: 1px dashed gray;margin: 0 0.4em 0.5em 0.4em;box-sizing: border-box;padding-bottom: 0.4em;background-color: white;position: relative;}#sk-4f1f8a1c-f2a5-4a6a-a68a-e2c5a2a810a7 div.sk-label label {font-family: monospace;font-weight: bold;background-color: white;display: inline-block;line-height: 1.2em;}#sk-4f1f8a1c-f2a5-4a6a-a68a-e2c5a2a810a7 div.sk-label-container {position: relative;z-index: 2;text-align: center;}#sk-4f1f8a1c-f2a5-4a6a-a68a-e2c5a2a810a7 div.sk-container {/* jupyter's `normalize.less` sets `[hidden] { display: none; }` but bootstrap.min.css set `[hidden] { display: none !important; }` so we also need the `!important` here to be able to override the default hidden behavior on the sphinx rendered scikit-learn.org. See: https://github.com/scikit-learn/scikit-learn/issues/21755 */display: inline-block !important;position: relative;}#sk-4f1f8a1c-f2a5-4a6a-a68a-e2c5a2a810a7 div.sk-text-repr-fallback {display: none;}</style><div id=\"sk-4f1f8a1c-f2a5-4a6a-a68a-e2c5a2a810a7\" class=\"sk-top-container\"><div class=\"sk-text-repr-fallback\"><pre>Pipeline(steps=[(&#x27;selector&#x27;,\n",
       "                 SequentialFeatureSelector(estimator=LinearRegression())),\n",
       "                (&#x27;scaler&#x27;, StandardScaler()), (&#x27;model&#x27;, LinearRegression())])</pre><b>Please rerun this cell to show the HTML repr or trust the notebook.</b></div><div class=\"sk-container\" hidden><div class=\"sk-item sk-dashed-wrapped\"><div class=\"sk-label-container\"><div class=\"sk-label sk-toggleable\"><input class=\"sk-toggleable__control sk-hidden--visually\" id=\"d83894fc-80e9-47c6-a74f-0e7a1b3066f6\" type=\"checkbox\" ><label for=\"d83894fc-80e9-47c6-a74f-0e7a1b3066f6\" class=\"sk-toggleable__label sk-toggleable__label-arrow\">Pipeline</label><div class=\"sk-toggleable__content\"><pre>Pipeline(steps=[(&#x27;selector&#x27;,\n",
       "                 SequentialFeatureSelector(estimator=LinearRegression())),\n",
       "                (&#x27;scaler&#x27;, StandardScaler()), (&#x27;model&#x27;, LinearRegression())])</pre></div></div></div><div class=\"sk-serial\"><div class=\"sk-item sk-dashed-wrapped\"><div class=\"sk-label-container\"><div class=\"sk-label sk-toggleable\"><input class=\"sk-toggleable__control sk-hidden--visually\" id=\"f444764b-b580-4e00-87ff-653147b9a623\" type=\"checkbox\" ><label for=\"f444764b-b580-4e00-87ff-653147b9a623\" class=\"sk-toggleable__label sk-toggleable__label-arrow\">selector: SequentialFeatureSelector</label><div class=\"sk-toggleable__content\"><pre>SequentialFeatureSelector(estimator=LinearRegression())</pre></div></div></div><div class=\"sk-parallel\"><div class=\"sk-parallel-item\"><div class=\"sk-item\"><div class=\"sk-serial\"><div class=\"sk-item\"><div class=\"sk-estimator sk-toggleable\"><input class=\"sk-toggleable__control sk-hidden--visually\" id=\"8bd37b49-bb5c-4857-9f86-443918aa5089\" type=\"checkbox\" ><label for=\"8bd37b49-bb5c-4857-9f86-443918aa5089\" class=\"sk-toggleable__label sk-toggleable__label-arrow\">LinearRegression</label><div class=\"sk-toggleable__content\"><pre>LinearRegression()</pre></div></div></div></div></div></div></div></div><div class=\"sk-item\"><div class=\"sk-estimator sk-toggleable\"><input class=\"sk-toggleable__control sk-hidden--visually\" id=\"ab5db402-fa80-4c45-aa8f-183449106f1a\" type=\"checkbox\" ><label for=\"ab5db402-fa80-4c45-aa8f-183449106f1a\" class=\"sk-toggleable__label sk-toggleable__label-arrow\">StandardScaler</label><div class=\"sk-toggleable__content\"><pre>StandardScaler()</pre></div></div></div><div class=\"sk-item\"><div class=\"sk-estimator sk-toggleable\"><input class=\"sk-toggleable__control sk-hidden--visually\" id=\"f2911f08-5269-4579-8d00-6cf91779b4c4\" type=\"checkbox\" ><label for=\"f2911f08-5269-4579-8d00-6cf91779b4c4\" class=\"sk-toggleable__label sk-toggleable__label-arrow\">LinearRegression</label><div class=\"sk-toggleable__content\"><pre>LinearRegression()</pre></div></div></div></div></div></div></div>"
      ],
      "text/plain": [
       "Pipeline(steps=[('selector',\n",
       "                 SequentialFeatureSelector(estimator=LinearRegression())),\n",
       "                ('scaler', StandardScaler()), ('model', LinearRegression())])"
      ]
     },
     "execution_count": 40,
     "metadata": {},
     "output_type": "execute_result"
    }
   ],
   "source": [
    "selector_pipe = Pipeline([('selector', SequentialFeatureSelector(LinearRegression())),\n",
    "                          ('scaler', StandardScaler()),\n",
    "                         ('model', LinearRegression())])\n",
    "selector_pipe"
   ]
  },
  {
   "cell_type": "markdown",
   "metadata": {},
   "source": [
    "Code below commented out (see Observations below)"
   ]
  },
  {
   "cell_type": "code",
   "execution_count": 41,
   "metadata": {
    "scrolled": false
   },
   "outputs": [],
   "source": [
    "# param_dict = {'selector__n_features_to_select' : [2, 3, 4, 5, 6]}\n",
    "\n",
    "# selector_grid = GridSearchCV(selector_pipe, param_grid = param_dict)\n",
    "\n",
    "# selector_grid.fit(X_train, y_train)\n",
    "\n",
    "# selector_train_preds = selector_grid.predict(X_train)\n",
    "# selector_test_preds = selector_grid.predict(X_test)\n",
    "\n",
    "# selector_train_mse = mean_squared_error(selector_train_preds, y_train)\n",
    "# selector_test_mse = mean_squared_error(selector_test_preds, y_test)"
   ]
  },
  {
   "cell_type": "markdown",
   "metadata": {},
   "source": [
    "**Observations**:\n",
    "- Attempted to build a model with SequentialFeatureSelector() and Linear Regression\n",
    "- However given the size of the dataset, particularly the number of features, this model doesn't perform efficiently\n",
    "- **Therefore, no results were obtained from this model and the code has been commented out**\n",
    "- Instead, we will focus on models using ridge regression and lasso regression. Additionally, we will be utilizing GridSearchCV to find the optimal values for alpha"
   ]
  },
  {
   "cell_type": "markdown",
   "metadata": {},
   "source": [
    "### 2. Ridge Regression Model with GridSearchCV"
   ]
  },
  {
   "cell_type": "code",
   "execution_count": 42,
   "metadata": {
    "scrolled": true
   },
   "outputs": [
    {
     "name": "stdout",
     "output_type": "stream",
     "text": [
      "Train MSE: 0.2324245105493568\n",
      "Test MSE: 0.2345507578929\n"
     ]
    },
    {
     "data": {
      "text/html": [
       "<style>#sk-df75e6d4-e5ee-4608-99ef-0dc3c76eec5a {color: black;background-color: white;}#sk-df75e6d4-e5ee-4608-99ef-0dc3c76eec5a pre{padding: 0;}#sk-df75e6d4-e5ee-4608-99ef-0dc3c76eec5a div.sk-toggleable {background-color: white;}#sk-df75e6d4-e5ee-4608-99ef-0dc3c76eec5a label.sk-toggleable__label {cursor: pointer;display: block;width: 100%;margin-bottom: 0;padding: 0.3em;box-sizing: border-box;text-align: center;}#sk-df75e6d4-e5ee-4608-99ef-0dc3c76eec5a label.sk-toggleable__label-arrow:before {content: \"▸\";float: left;margin-right: 0.25em;color: #696969;}#sk-df75e6d4-e5ee-4608-99ef-0dc3c76eec5a label.sk-toggleable__label-arrow:hover:before {color: black;}#sk-df75e6d4-e5ee-4608-99ef-0dc3c76eec5a div.sk-estimator:hover label.sk-toggleable__label-arrow:before {color: black;}#sk-df75e6d4-e5ee-4608-99ef-0dc3c76eec5a div.sk-toggleable__content {max-height: 0;max-width: 0;overflow: hidden;text-align: left;background-color: #f0f8ff;}#sk-df75e6d4-e5ee-4608-99ef-0dc3c76eec5a div.sk-toggleable__content pre {margin: 0.2em;color: black;border-radius: 0.25em;background-color: #f0f8ff;}#sk-df75e6d4-e5ee-4608-99ef-0dc3c76eec5a input.sk-toggleable__control:checked~div.sk-toggleable__content {max-height: 200px;max-width: 100%;overflow: auto;}#sk-df75e6d4-e5ee-4608-99ef-0dc3c76eec5a input.sk-toggleable__control:checked~label.sk-toggleable__label-arrow:before {content: \"▾\";}#sk-df75e6d4-e5ee-4608-99ef-0dc3c76eec5a div.sk-estimator input.sk-toggleable__control:checked~label.sk-toggleable__label {background-color: #d4ebff;}#sk-df75e6d4-e5ee-4608-99ef-0dc3c76eec5a div.sk-label input.sk-toggleable__control:checked~label.sk-toggleable__label {background-color: #d4ebff;}#sk-df75e6d4-e5ee-4608-99ef-0dc3c76eec5a input.sk-hidden--visually {border: 0;clip: rect(1px 1px 1px 1px);clip: rect(1px, 1px, 1px, 1px);height: 1px;margin: -1px;overflow: hidden;padding: 0;position: absolute;width: 1px;}#sk-df75e6d4-e5ee-4608-99ef-0dc3c76eec5a div.sk-estimator {font-family: monospace;background-color: #f0f8ff;border: 1px dotted black;border-radius: 0.25em;box-sizing: border-box;margin-bottom: 0.5em;}#sk-df75e6d4-e5ee-4608-99ef-0dc3c76eec5a div.sk-estimator:hover {background-color: #d4ebff;}#sk-df75e6d4-e5ee-4608-99ef-0dc3c76eec5a div.sk-parallel-item::after {content: \"\";width: 100%;border-bottom: 1px solid gray;flex-grow: 1;}#sk-df75e6d4-e5ee-4608-99ef-0dc3c76eec5a div.sk-label:hover label.sk-toggleable__label {background-color: #d4ebff;}#sk-df75e6d4-e5ee-4608-99ef-0dc3c76eec5a div.sk-serial::before {content: \"\";position: absolute;border-left: 1px solid gray;box-sizing: border-box;top: 2em;bottom: 0;left: 50%;}#sk-df75e6d4-e5ee-4608-99ef-0dc3c76eec5a div.sk-serial {display: flex;flex-direction: column;align-items: center;background-color: white;padding-right: 0.2em;padding-left: 0.2em;}#sk-df75e6d4-e5ee-4608-99ef-0dc3c76eec5a div.sk-item {z-index: 1;}#sk-df75e6d4-e5ee-4608-99ef-0dc3c76eec5a div.sk-parallel {display: flex;align-items: stretch;justify-content: center;background-color: white;}#sk-df75e6d4-e5ee-4608-99ef-0dc3c76eec5a div.sk-parallel::before {content: \"\";position: absolute;border-left: 1px solid gray;box-sizing: border-box;top: 2em;bottom: 0;left: 50%;}#sk-df75e6d4-e5ee-4608-99ef-0dc3c76eec5a div.sk-parallel-item {display: flex;flex-direction: column;position: relative;background-color: white;}#sk-df75e6d4-e5ee-4608-99ef-0dc3c76eec5a div.sk-parallel-item:first-child::after {align-self: flex-end;width: 50%;}#sk-df75e6d4-e5ee-4608-99ef-0dc3c76eec5a div.sk-parallel-item:last-child::after {align-self: flex-start;width: 50%;}#sk-df75e6d4-e5ee-4608-99ef-0dc3c76eec5a div.sk-parallel-item:only-child::after {width: 0;}#sk-df75e6d4-e5ee-4608-99ef-0dc3c76eec5a div.sk-dashed-wrapped {border: 1px dashed gray;margin: 0 0.4em 0.5em 0.4em;box-sizing: border-box;padding-bottom: 0.4em;background-color: white;position: relative;}#sk-df75e6d4-e5ee-4608-99ef-0dc3c76eec5a div.sk-label label {font-family: monospace;font-weight: bold;background-color: white;display: inline-block;line-height: 1.2em;}#sk-df75e6d4-e5ee-4608-99ef-0dc3c76eec5a div.sk-label-container {position: relative;z-index: 2;text-align: center;}#sk-df75e6d4-e5ee-4608-99ef-0dc3c76eec5a div.sk-container {/* jupyter's `normalize.less` sets `[hidden] { display: none; }` but bootstrap.min.css set `[hidden] { display: none !important; }` so we also need the `!important` here to be able to override the default hidden behavior on the sphinx rendered scikit-learn.org. See: https://github.com/scikit-learn/scikit-learn/issues/21755 */display: inline-block !important;position: relative;}#sk-df75e6d4-e5ee-4608-99ef-0dc3c76eec5a div.sk-text-repr-fallback {display: none;}</style><div id=\"sk-df75e6d4-e5ee-4608-99ef-0dc3c76eec5a\" class=\"sk-top-container\"><div class=\"sk-text-repr-fallback\"><pre>Pipeline(steps=[(&#x27;scaler&#x27;, StandardScaler()), (&#x27;ridge&#x27;, Ridge())])</pre><b>Please rerun this cell to show the HTML repr or trust the notebook.</b></div><div class=\"sk-container\" hidden><div class=\"sk-item sk-dashed-wrapped\"><div class=\"sk-label-container\"><div class=\"sk-label sk-toggleable\"><input class=\"sk-toggleable__control sk-hidden--visually\" id=\"366e5abb-dae4-43de-bd8f-260934b268c9\" type=\"checkbox\" ><label for=\"366e5abb-dae4-43de-bd8f-260934b268c9\" class=\"sk-toggleable__label sk-toggleable__label-arrow\">Pipeline</label><div class=\"sk-toggleable__content\"><pre>Pipeline(steps=[(&#x27;scaler&#x27;, StandardScaler()), (&#x27;ridge&#x27;, Ridge())])</pre></div></div></div><div class=\"sk-serial\"><div class=\"sk-item\"><div class=\"sk-estimator sk-toggleable\"><input class=\"sk-toggleable__control sk-hidden--visually\" id=\"9ae01ef1-6a04-42b9-89da-e2fd7e1a170c\" type=\"checkbox\" ><label for=\"9ae01ef1-6a04-42b9-89da-e2fd7e1a170c\" class=\"sk-toggleable__label sk-toggleable__label-arrow\">StandardScaler</label><div class=\"sk-toggleable__content\"><pre>StandardScaler()</pre></div></div></div><div class=\"sk-item\"><div class=\"sk-estimator sk-toggleable\"><input class=\"sk-toggleable__control sk-hidden--visually\" id=\"287d12bf-10dc-470b-be30-edb228ebfbf5\" type=\"checkbox\" ><label for=\"287d12bf-10dc-470b-be30-edb228ebfbf5\" class=\"sk-toggleable__label sk-toggleable__label-arrow\">Ridge</label><div class=\"sk-toggleable__content\"><pre>Ridge()</pre></div></div></div></div></div></div></div>"
      ],
      "text/plain": [
       "Pipeline(steps=[('scaler', StandardScaler()), ('ridge', Ridge())])"
      ]
     },
     "execution_count": 42,
     "metadata": {},
     "output_type": "execute_result"
    }
   ],
   "source": [
    "# Specifying alpha values to try out when using GridSearchCV\n",
    "# Using np.logspace to generate range of values since log transformation was applied to target variable\n",
    "ridge_param_dict = {'ridge__alpha': np.logspace(0, 5, 50)}\n",
    "\n",
    "# create a two step pipeline where the first step involves standardizing the data followed by perform ridge regression\n",
    "ridge_pipe = Pipeline([('scaler', StandardScaler()), \n",
    "                      ('ridge', Ridge())])\n",
    "\n",
    "# Using GridSearchCV to find the optimal value for alpha in the Ridge regression model\n",
    "# we include parameter cv = 5 to specify the type of cross-validation to use (k-fold cross-validation)\n",
    "ridge_grid = GridSearchCV(ridge_pipe, param_grid=ridge_param_dict, cv = 5)\n",
    "ridge_grid.fit(X_train, y_train)\n",
    "ridge_train_preds = ridge_grid.predict(X_train)\n",
    "ridge_test_preds = ridge_grid.predict(X_test)\n",
    "ridge_train_mse = mean_squared_error(y_train, ridge_train_preds)\n",
    "ridge_test_mse = mean_squared_error(y_test, ridge_test_preds)\n",
    "\n",
    "# Using MSE as evaluation metric which measures magnitude of error (predicted v.s actual value)\n",
    "print(f'Train MSE: {ridge_train_mse}')\n",
    "print(f'Test MSE: {ridge_test_mse}')\n",
    "ridge_pipe"
   ]
  },
  {
   "cell_type": "code",
   "execution_count": 43,
   "metadata": {},
   "outputs": [],
   "source": [
    "# extracting best estimator (pipeline)\n",
    "best_estimator_ridge = ridge_grid.best_estimator_\n",
    "\n",
    "# extract model step from best estimator\n",
    "best_model_ridge = best_estimator_ridge.named_steps['ridge']\n",
    "\n",
    "feature_names = X_train.columns\n",
    "\n",
    "# extract feature coefficients\n",
    "coefs_ridge = best_model_ridge.coef_"
   ]
  },
  {
   "cell_type": "code",
   "execution_count": 44,
   "metadata": {
    "scrolled": true
   },
   "outputs": [
    {
     "data": {
      "text/html": [
       "<style>#sk-e0a75a55-1559-48f1-94b5-0896df29fd77 {color: black;background-color: white;}#sk-e0a75a55-1559-48f1-94b5-0896df29fd77 pre{padding: 0;}#sk-e0a75a55-1559-48f1-94b5-0896df29fd77 div.sk-toggleable {background-color: white;}#sk-e0a75a55-1559-48f1-94b5-0896df29fd77 label.sk-toggleable__label {cursor: pointer;display: block;width: 100%;margin-bottom: 0;padding: 0.3em;box-sizing: border-box;text-align: center;}#sk-e0a75a55-1559-48f1-94b5-0896df29fd77 label.sk-toggleable__label-arrow:before {content: \"▸\";float: left;margin-right: 0.25em;color: #696969;}#sk-e0a75a55-1559-48f1-94b5-0896df29fd77 label.sk-toggleable__label-arrow:hover:before {color: black;}#sk-e0a75a55-1559-48f1-94b5-0896df29fd77 div.sk-estimator:hover label.sk-toggleable__label-arrow:before {color: black;}#sk-e0a75a55-1559-48f1-94b5-0896df29fd77 div.sk-toggleable__content {max-height: 0;max-width: 0;overflow: hidden;text-align: left;background-color: #f0f8ff;}#sk-e0a75a55-1559-48f1-94b5-0896df29fd77 div.sk-toggleable__content pre {margin: 0.2em;color: black;border-radius: 0.25em;background-color: #f0f8ff;}#sk-e0a75a55-1559-48f1-94b5-0896df29fd77 input.sk-toggleable__control:checked~div.sk-toggleable__content {max-height: 200px;max-width: 100%;overflow: auto;}#sk-e0a75a55-1559-48f1-94b5-0896df29fd77 input.sk-toggleable__control:checked~label.sk-toggleable__label-arrow:before {content: \"▾\";}#sk-e0a75a55-1559-48f1-94b5-0896df29fd77 div.sk-estimator input.sk-toggleable__control:checked~label.sk-toggleable__label {background-color: #d4ebff;}#sk-e0a75a55-1559-48f1-94b5-0896df29fd77 div.sk-label input.sk-toggleable__control:checked~label.sk-toggleable__label {background-color: #d4ebff;}#sk-e0a75a55-1559-48f1-94b5-0896df29fd77 input.sk-hidden--visually {border: 0;clip: rect(1px 1px 1px 1px);clip: rect(1px, 1px, 1px, 1px);height: 1px;margin: -1px;overflow: hidden;padding: 0;position: absolute;width: 1px;}#sk-e0a75a55-1559-48f1-94b5-0896df29fd77 div.sk-estimator {font-family: monospace;background-color: #f0f8ff;border: 1px dotted black;border-radius: 0.25em;box-sizing: border-box;margin-bottom: 0.5em;}#sk-e0a75a55-1559-48f1-94b5-0896df29fd77 div.sk-estimator:hover {background-color: #d4ebff;}#sk-e0a75a55-1559-48f1-94b5-0896df29fd77 div.sk-parallel-item::after {content: \"\";width: 100%;border-bottom: 1px solid gray;flex-grow: 1;}#sk-e0a75a55-1559-48f1-94b5-0896df29fd77 div.sk-label:hover label.sk-toggleable__label {background-color: #d4ebff;}#sk-e0a75a55-1559-48f1-94b5-0896df29fd77 div.sk-serial::before {content: \"\";position: absolute;border-left: 1px solid gray;box-sizing: border-box;top: 2em;bottom: 0;left: 50%;}#sk-e0a75a55-1559-48f1-94b5-0896df29fd77 div.sk-serial {display: flex;flex-direction: column;align-items: center;background-color: white;padding-right: 0.2em;padding-left: 0.2em;}#sk-e0a75a55-1559-48f1-94b5-0896df29fd77 div.sk-item {z-index: 1;}#sk-e0a75a55-1559-48f1-94b5-0896df29fd77 div.sk-parallel {display: flex;align-items: stretch;justify-content: center;background-color: white;}#sk-e0a75a55-1559-48f1-94b5-0896df29fd77 div.sk-parallel::before {content: \"\";position: absolute;border-left: 1px solid gray;box-sizing: border-box;top: 2em;bottom: 0;left: 50%;}#sk-e0a75a55-1559-48f1-94b5-0896df29fd77 div.sk-parallel-item {display: flex;flex-direction: column;position: relative;background-color: white;}#sk-e0a75a55-1559-48f1-94b5-0896df29fd77 div.sk-parallel-item:first-child::after {align-self: flex-end;width: 50%;}#sk-e0a75a55-1559-48f1-94b5-0896df29fd77 div.sk-parallel-item:last-child::after {align-self: flex-start;width: 50%;}#sk-e0a75a55-1559-48f1-94b5-0896df29fd77 div.sk-parallel-item:only-child::after {width: 0;}#sk-e0a75a55-1559-48f1-94b5-0896df29fd77 div.sk-dashed-wrapped {border: 1px dashed gray;margin: 0 0.4em 0.5em 0.4em;box-sizing: border-box;padding-bottom: 0.4em;background-color: white;position: relative;}#sk-e0a75a55-1559-48f1-94b5-0896df29fd77 div.sk-label label {font-family: monospace;font-weight: bold;background-color: white;display: inline-block;line-height: 1.2em;}#sk-e0a75a55-1559-48f1-94b5-0896df29fd77 div.sk-label-container {position: relative;z-index: 2;text-align: center;}#sk-e0a75a55-1559-48f1-94b5-0896df29fd77 div.sk-container {/* jupyter's `normalize.less` sets `[hidden] { display: none; }` but bootstrap.min.css set `[hidden] { display: none !important; }` so we also need the `!important` here to be able to override the default hidden behavior on the sphinx rendered scikit-learn.org. See: https://github.com/scikit-learn/scikit-learn/issues/21755 */display: inline-block !important;position: relative;}#sk-e0a75a55-1559-48f1-94b5-0896df29fd77 div.sk-text-repr-fallback {display: none;}</style><div id=\"sk-e0a75a55-1559-48f1-94b5-0896df29fd77\" class=\"sk-top-container\"><div class=\"sk-text-repr-fallback\"><pre>Ridge(alpha=86.8511373751353)</pre><b>Please rerun this cell to show the HTML repr or trust the notebook.</b></div><div class=\"sk-container\" hidden><div class=\"sk-item\"><div class=\"sk-estimator sk-toggleable\"><input class=\"sk-toggleable__control sk-hidden--visually\" id=\"3a971152-de9c-48a0-bc46-7b479599e894\" type=\"checkbox\" checked><label for=\"3a971152-de9c-48a0-bc46-7b479599e894\" class=\"sk-toggleable__label sk-toggleable__label-arrow\">Ridge</label><div class=\"sk-toggleable__content\"><pre>Ridge(alpha=86.8511373751353)</pre></div></div></div></div></div>"
      ],
      "text/plain": [
       "Ridge(alpha=86.8511373751353)"
      ]
     },
     "execution_count": 44,
     "metadata": {},
     "output_type": "execute_result"
    }
   ],
   "source": [
    "best_model_ridge"
   ]
  },
  {
   "cell_type": "markdown",
   "metadata": {},
   "source": [
    "**Observations:**\n",
    "- Optimal value chosen for alpha is ~86.85"
   ]
  },
  {
   "cell_type": "code",
   "execution_count": 45,
   "metadata": {},
   "outputs": [
    {
     "name": "stdout",
     "output_type": "stream",
     "text": [
      "Cross-validation scores:  [0.69122584 0.68988603 0.68540467 0.68865125 0.68723561]\n",
      "Mean cross-validation score:  0.6884806782936972\n"
     ]
    }
   ],
   "source": [
    "# Assessing model using cross-validation using cross_val_score \n",
    "# Setting cv = 5, represents performing 5-fold cross-validation\n",
    "cv_scores_ridge = cross_val_score(best_model_ridge, X_train, y_train, cv = 5)\n",
    "\n",
    "mean_cv_score_ridge = np.mean(cv_scores_ridge)\n",
    "\n",
    "print(\"Cross-validation scores: \", cv_scores_ridge)\n",
    "print(\"Mean cross-validation score: \", mean_cv_score_ridge)"
   ]
  },
  {
   "cell_type": "markdown",
   "metadata": {},
   "source": [
    "**Observations**:\n",
    "- Mean cross-validation score obtained ~ 0.68 which is a bit surprising given the result of Test MSE above. \n",
    "- Was expecting a higher cross-validation score."
   ]
  },
  {
   "cell_type": "code",
   "execution_count": 46,
   "metadata": {
    "scrolled": false
   },
   "outputs": [
    {
     "data": {
      "text/html": [
       "<div>\n",
       "<style scoped>\n",
       "    .dataframe tbody tr th:only-of-type {\n",
       "        vertical-align: middle;\n",
       "    }\n",
       "\n",
       "    .dataframe tbody tr th {\n",
       "        vertical-align: top;\n",
       "    }\n",
       "\n",
       "    .dataframe thead th {\n",
       "        text-align: right;\n",
       "    }\n",
       "</style>\n",
       "<table border=\"1\" class=\"dataframe\">\n",
       "  <thead>\n",
       "    <tr style=\"text-align: right;\">\n",
       "      <th></th>\n",
       "      <th>feature_names</th>\n",
       "      <th>coef</th>\n",
       "      <th>abs_coef</th>\n",
       "    </tr>\n",
       "  </thead>\n",
       "  <tbody>\n",
       "    <tr>\n",
       "      <th>2</th>\n",
       "      <td>odometer</td>\n",
       "      <td>-0.415384</td>\n",
       "      <td>0.415384</td>\n",
       "    </tr>\n",
       "    <tr>\n",
       "      <th>3</th>\n",
       "      <td>age</td>\n",
       "      <td>-0.212133</td>\n",
       "      <td>0.212133</td>\n",
       "    </tr>\n",
       "    <tr>\n",
       "      <th>1</th>\n",
       "      <td>cylinders</td>\n",
       "      <td>0.144849</td>\n",
       "      <td>0.144849</td>\n",
       "    </tr>\n",
       "    <tr>\n",
       "      <th>0</th>\n",
       "      <td>condition</td>\n",
       "      <td>0.132305</td>\n",
       "      <td>0.132305</td>\n",
       "    </tr>\n",
       "    <tr>\n",
       "      <th>46</th>\n",
       "      <td>fuel_diesel</td>\n",
       "      <td>0.083760</td>\n",
       "      <td>0.083760</td>\n",
       "    </tr>\n",
       "    <tr>\n",
       "      <th>61</th>\n",
       "      <td>drive_fwd</td>\n",
       "      <td>-0.083430</td>\n",
       "      <td>0.083430</td>\n",
       "    </tr>\n",
       "    <tr>\n",
       "      <th>72</th>\n",
       "      <td>type_sedan</td>\n",
       "      <td>-0.075837</td>\n",
       "      <td>0.075837</td>\n",
       "    </tr>\n",
       "    <tr>\n",
       "      <th>73</th>\n",
       "      <td>type_truck</td>\n",
       "      <td>0.073157</td>\n",
       "      <td>0.073157</td>\n",
       "    </tr>\n",
       "    <tr>\n",
       "      <th>59</th>\n",
       "      <td>transmission_other</td>\n",
       "      <td>0.065273</td>\n",
       "      <td>0.065273</td>\n",
       "    </tr>\n",
       "    <tr>\n",
       "      <th>60</th>\n",
       "      <td>drive_4wd</td>\n",
       "      <td>0.061873</td>\n",
       "      <td>0.061873</td>\n",
       "    </tr>\n",
       "    <tr>\n",
       "      <th>48</th>\n",
       "      <td>fuel_gas</td>\n",
       "      <td>-0.060136</td>\n",
       "      <td>0.060136</td>\n",
       "    </tr>\n",
       "    <tr>\n",
       "      <th>43</th>\n",
       "      <td>manufacturer_toyota</td>\n",
       "      <td>0.050407</td>\n",
       "      <td>0.050407</td>\n",
       "    </tr>\n",
       "    <tr>\n",
       "      <th>57</th>\n",
       "      <td>transmission_automatic</td>\n",
       "      <td>-0.047716</td>\n",
       "      <td>0.047716</td>\n",
       "    </tr>\n",
       "    <tr>\n",
       "      <th>27</th>\n",
       "      <td>manufacturer_lexus</td>\n",
       "      <td>0.035173</td>\n",
       "      <td>0.035173</td>\n",
       "    </tr>\n",
       "    <tr>\n",
       "      <th>67</th>\n",
       "      <td>type_hatchback</td>\n",
       "      <td>-0.034306</td>\n",
       "      <td>0.034306</td>\n",
       "    </tr>\n",
       "    <tr>\n",
       "      <th>71</th>\n",
       "      <td>type_pickup</td>\n",
       "      <td>0.033397</td>\n",
       "      <td>0.033397</td>\n",
       "    </tr>\n",
       "    <tr>\n",
       "      <th>31</th>\n",
       "      <td>manufacturer_mercury</td>\n",
       "      <td>-0.029875</td>\n",
       "      <td>0.029875</td>\n",
       "    </tr>\n",
       "    <tr>\n",
       "      <th>40</th>\n",
       "      <td>manufacturer_saturn</td>\n",
       "      <td>-0.028667</td>\n",
       "      <td>0.028667</td>\n",
       "    </tr>\n",
       "    <tr>\n",
       "      <th>12</th>\n",
       "      <td>manufacturer_chrysler</td>\n",
       "      <td>-0.027548</td>\n",
       "      <td>0.027548</td>\n",
       "    </tr>\n",
       "    <tr>\n",
       "      <th>123</th>\n",
       "      <td>state_oh</td>\n",
       "      <td>-0.025911</td>\n",
       "      <td>0.025911</td>\n",
       "    </tr>\n",
       "    <tr>\n",
       "      <th>37</th>\n",
       "      <td>manufacturer_porsche</td>\n",
       "      <td>0.025271</td>\n",
       "      <td>0.025271</td>\n",
       "    </tr>\n",
       "    <tr>\n",
       "      <th>92</th>\n",
       "      <td>state_ca</td>\n",
       "      <td>0.024403</td>\n",
       "      <td>0.024403</td>\n",
       "    </tr>\n",
       "    <tr>\n",
       "      <th>56</th>\n",
       "      <td>title_status_salvage</td>\n",
       "      <td>-0.023533</td>\n",
       "      <td>0.023533</td>\n",
       "    </tr>\n",
       "    <tr>\n",
       "      <th>14</th>\n",
       "      <td>manufacturer_dodge</td>\n",
       "      <td>-0.022567</td>\n",
       "      <td>0.022567</td>\n",
       "    </tr>\n",
       "    <tr>\n",
       "      <th>20</th>\n",
       "      <td>manufacturer_honda</td>\n",
       "      <td>0.022209</td>\n",
       "      <td>0.022209</td>\n",
       "    </tr>\n",
       "  </tbody>\n",
       "</table>\n",
       "</div>"
      ],
      "text/plain": [
       "              feature_names      coef  abs_coef\n",
       "2                  odometer -0.415384  0.415384\n",
       "3                       age -0.212133  0.212133\n",
       "1                 cylinders  0.144849  0.144849\n",
       "0                 condition  0.132305  0.132305\n",
       "46              fuel_diesel  0.083760  0.083760\n",
       "61                drive_fwd -0.083430  0.083430\n",
       "72               type_sedan -0.075837  0.075837\n",
       "73               type_truck  0.073157  0.073157\n",
       "59       transmission_other  0.065273  0.065273\n",
       "60                drive_4wd  0.061873  0.061873\n",
       "48                 fuel_gas -0.060136  0.060136\n",
       "43      manufacturer_toyota  0.050407  0.050407\n",
       "57   transmission_automatic -0.047716  0.047716\n",
       "27       manufacturer_lexus  0.035173  0.035173\n",
       "67           type_hatchback -0.034306  0.034306\n",
       "71              type_pickup  0.033397  0.033397\n",
       "31     manufacturer_mercury -0.029875  0.029875\n",
       "40      manufacturer_saturn -0.028667  0.028667\n",
       "12    manufacturer_chrysler -0.027548  0.027548\n",
       "123                state_oh -0.025911  0.025911\n",
       "37     manufacturer_porsche  0.025271  0.025271\n",
       "92                 state_ca  0.024403  0.024403\n",
       "56     title_status_salvage -0.023533  0.023533\n",
       "14       manufacturer_dodge -0.022567  0.022567\n",
       "20       manufacturer_honda  0.022209  0.022209"
      ]
     },
     "execution_count": 46,
     "metadata": {},
     "output_type": "execute_result"
    }
   ],
   "source": [
    "# Creating dataframe for coefficients\n",
    "# Adding a third column that views the magnitude of the coefficients, displayed in descending order\n",
    "coeff_ridge_df = pd.DataFrame.from_dict({'feature_names':feature_names,'coef':coefs_ridge})\n",
    "coeff_ridge_df['abs_coef'] = abs(coeff_ridge_df.coef)\n",
    "coeff_ridge_df = coeff_ridge_df.sort_values(by='abs_coef', ascending = False)\n",
    "coeff_ridge_df.head(25)"
   ]
  },
  {
   "cell_type": "code",
   "execution_count": 47,
   "metadata": {},
   "outputs": [],
   "source": [
    "top_15_coeff_ridge = coeff_ridge_df.head(15)"
   ]
  },
  {
   "cell_type": "code",
   "execution_count": 48,
   "metadata": {},
   "outputs": [
    {
     "data": {
      "image/png": "[encoded data removed]",
      "text/plain": [
       "<Figure size 1000x600 with 1 Axes>"
      ]
     },
     "metadata": {},
     "output_type": "display_data"
    }
   ],
   "source": [
    "# Visualizing Feature Coefficients\n",
    "plt.figure(figsize=(10, 6))\n",
    "sns.barplot(x = 'coef', y = 'feature_names', data = top_15_coeff_ridge, orient = 'h')\n",
    "plt.title('Feature Coefficients (Ridge)')\n",
    "plt.xlabel('Coefficient Value')\n",
    "plt.ylabel('Feature')\n",
    "plt.show()"
   ]
  },
  {
   "cell_type": "code",
   "execution_count": 49,
   "metadata": {
    "scrolled": true
   },
   "outputs": [],
   "source": [
    "# Examining Feature Importance\n",
    "perm_importance = permutation_importance(best_estimator_ridge, X_train, y_train, n_repeats = 10, random_state = 42)\n",
    "\n",
    "# Get the feature importances\n",
    "feature_importances_ridge = perm_importance.importances_mean\n",
    "\n",
    "# Get the indices of features sorted by importance\n",
    "sorted_idx = np.argsort(feature_importances_ridge)[::-1]\n",
    "\n",
    "# Create dataframe for feature and corresponding importance value\n",
    "ridge_feature_importance_df = pd.DataFrame({'Feature': X.columns[sorted_idx],\n",
    "                                      'Importance': feature_importances_ridge[sorted_idx]})"
   ]
  },
  {
   "cell_type": "code",
   "execution_count": 50,
   "metadata": {
    "scrolled": true
   },
   "outputs": [
    {
     "data": {
      "text/html": [
       "<div>\n",
       "<style scoped>\n",
       "    .dataframe tbody tr th:only-of-type {\n",
       "        vertical-align: middle;\n",
       "    }\n",
       "\n",
       "    .dataframe tbody tr th {\n",
       "        vertical-align: top;\n",
       "    }\n",
       "\n",
       "    .dataframe thead th {\n",
       "        text-align: right;\n",
       "    }\n",
       "</style>\n",
       "<table border=\"1\" class=\"dataframe\">\n",
       "  <thead>\n",
       "    <tr style=\"text-align: right;\">\n",
       "      <th></th>\n",
       "      <th>Feature</th>\n",
       "      <th>Importance</th>\n",
       "    </tr>\n",
       "  </thead>\n",
       "  <tbody>\n",
       "    <tr>\n",
       "      <th>0</th>\n",
       "      <td>odometer</td>\n",
       "      <td>0.459847</td>\n",
       "    </tr>\n",
       "    <tr>\n",
       "      <th>1</th>\n",
       "      <td>age</td>\n",
       "      <td>0.120039</td>\n",
       "    </tr>\n",
       "    <tr>\n",
       "      <th>2</th>\n",
       "      <td>cylinders</td>\n",
       "      <td>0.056127</td>\n",
       "    </tr>\n",
       "    <tr>\n",
       "      <th>3</th>\n",
       "      <td>condition</td>\n",
       "      <td>0.046523</td>\n",
       "    </tr>\n",
       "    <tr>\n",
       "      <th>4</th>\n",
       "      <td>fuel_diesel</td>\n",
       "      <td>0.018584</td>\n",
       "    </tr>\n",
       "    <tr>\n",
       "      <th>5</th>\n",
       "      <td>drive_fwd</td>\n",
       "      <td>0.018451</td>\n",
       "    </tr>\n",
       "    <tr>\n",
       "      <th>6</th>\n",
       "      <td>type_sedan</td>\n",
       "      <td>0.015384</td>\n",
       "    </tr>\n",
       "    <tr>\n",
       "      <th>7</th>\n",
       "      <td>type_truck</td>\n",
       "      <td>0.014379</td>\n",
       "    </tr>\n",
       "    <tr>\n",
       "      <th>8</th>\n",
       "      <td>transmission_other</td>\n",
       "      <td>0.011474</td>\n",
       "    </tr>\n",
       "    <tr>\n",
       "      <th>9</th>\n",
       "      <td>drive_4wd</td>\n",
       "      <td>0.010089</td>\n",
       "    </tr>\n",
       "    <tr>\n",
       "      <th>10</th>\n",
       "      <td>fuel_gas</td>\n",
       "      <td>0.009519</td>\n",
       "    </tr>\n",
       "    <tr>\n",
       "      <th>11</th>\n",
       "      <td>manufacturer_toyota</td>\n",
       "      <td>0.006755</td>\n",
       "    </tr>\n",
       "    <tr>\n",
       "      <th>12</th>\n",
       "      <td>transmission_automatic</td>\n",
       "      <td>0.006177</td>\n",
       "    </tr>\n",
       "    <tr>\n",
       "      <th>13</th>\n",
       "      <td>manufacturer_lexus</td>\n",
       "      <td>0.003358</td>\n",
       "    </tr>\n",
       "    <tr>\n",
       "      <th>14</th>\n",
       "      <td>type_hatchback</td>\n",
       "      <td>0.003022</td>\n",
       "    </tr>\n",
       "    <tr>\n",
       "      <th>15</th>\n",
       "      <td>type_pickup</td>\n",
       "      <td>0.002961</td>\n",
       "    </tr>\n",
       "    <tr>\n",
       "      <th>16</th>\n",
       "      <td>manufacturer_mercury</td>\n",
       "      <td>0.002365</td>\n",
       "    </tr>\n",
       "    <tr>\n",
       "      <th>17</th>\n",
       "      <td>manufacturer_saturn</td>\n",
       "      <td>0.002197</td>\n",
       "    </tr>\n",
       "    <tr>\n",
       "      <th>18</th>\n",
       "      <td>manufacturer_chrysler</td>\n",
       "      <td>0.002047</td>\n",
       "    </tr>\n",
       "    <tr>\n",
       "      <th>19</th>\n",
       "      <td>state_oh</td>\n",
       "      <td>0.001753</td>\n",
       "    </tr>\n",
       "    <tr>\n",
       "      <th>20</th>\n",
       "      <td>manufacturer_porsche</td>\n",
       "      <td>0.001676</td>\n",
       "    </tr>\n",
       "    <tr>\n",
       "      <th>21</th>\n",
       "      <td>state_ca</td>\n",
       "      <td>0.001548</td>\n",
       "    </tr>\n",
       "    <tr>\n",
       "      <th>22</th>\n",
       "      <td>title_status_salvage</td>\n",
       "      <td>0.001491</td>\n",
       "    </tr>\n",
       "    <tr>\n",
       "      <th>23</th>\n",
       "      <td>manufacturer_dodge</td>\n",
       "      <td>0.001376</td>\n",
       "    </tr>\n",
       "    <tr>\n",
       "      <th>24</th>\n",
       "      <td>manufacturer_honda</td>\n",
       "      <td>0.001327</td>\n",
       "    </tr>\n",
       "  </tbody>\n",
       "</table>\n",
       "</div>"
      ],
      "text/plain": [
       "                   Feature  Importance\n",
       "0                 odometer    0.459847\n",
       "1                      age    0.120039\n",
       "2                cylinders    0.056127\n",
       "3                condition    0.046523\n",
       "4              fuel_diesel    0.018584\n",
       "5                drive_fwd    0.018451\n",
       "6               type_sedan    0.015384\n",
       "7               type_truck    0.014379\n",
       "8       transmission_other    0.011474\n",
       "9                drive_4wd    0.010089\n",
       "10                fuel_gas    0.009519\n",
       "11     manufacturer_toyota    0.006755\n",
       "12  transmission_automatic    0.006177\n",
       "13      manufacturer_lexus    0.003358\n",
       "14          type_hatchback    0.003022\n",
       "15             type_pickup    0.002961\n",
       "16    manufacturer_mercury    0.002365\n",
       "17     manufacturer_saturn    0.002197\n",
       "18   manufacturer_chrysler    0.002047\n",
       "19                state_oh    0.001753\n",
       "20    manufacturer_porsche    0.001676\n",
       "21                state_ca    0.001548\n",
       "22    title_status_salvage    0.001491\n",
       "23      manufacturer_dodge    0.001376\n",
       "24      manufacturer_honda    0.001327"
      ]
     },
     "execution_count": 50,
     "metadata": {},
     "output_type": "execute_result"
    }
   ],
   "source": [
    "ridge_feature_importance_df.head(25)"
   ]
  },
  {
   "cell_type": "code",
   "execution_count": 51,
   "metadata": {},
   "outputs": [],
   "source": [
    "# Create new data frame with top 15 important features\n",
    "top_15_important_feat_ridge = ridge_feature_importance_df.head(15)"
   ]
  },
  {
   "cell_type": "code",
   "execution_count": 52,
   "metadata": {},
   "outputs": [
    {
     "data": {
      "image/png": "[encoded data removed]",
      "text/plain": [
       "<Figure size 1000x600 with 1 Axes>"
      ]
     },
     "metadata": {},
     "output_type": "display_data"
    }
   ],
   "source": [
    "# Visualizing Feature Importance\n",
    "plt.figure(figsize=(10, 6))\n",
    "sns.barplot(x = 'Importance', y = 'Feature', data = top_15_important_feat_ridge, orient = 'h')\n",
    "plt.title('Feature Importance (Ridge)')\n",
    "plt.xlabel('Importance Value')\n",
    "plt.ylabel('Feature')\n",
    "plt.show()"
   ]
  },
  {
   "cell_type": "markdown",
   "metadata": {},
   "source": [
    "### 3. Lasso Regression with GridSearchCV"
   ]
  },
  {
   "cell_type": "code",
   "execution_count": 53,
   "metadata": {},
   "outputs": [
    {
     "name": "stdout",
     "output_type": "stream",
     "text": [
      "Train MSE: 0.2596268725192799\n",
      "Test MSE: 0.2644335004963303\n"
     ]
    },
    {
     "data": {
      "text/html": [
       "<style>#sk-61e19b8d-633f-47a9-bd25-4425f3fb8536 {color: black;background-color: white;}#sk-61e19b8d-633f-47a9-bd25-4425f3fb8536 pre{padding: 0;}#sk-61e19b8d-633f-47a9-bd25-4425f3fb8536 div.sk-toggleable {background-color: white;}#sk-61e19b8d-633f-47a9-bd25-4425f3fb8536 label.sk-toggleable__label {cursor: pointer;display: block;width: 100%;margin-bottom: 0;padding: 0.3em;box-sizing: border-box;text-align: center;}#sk-61e19b8d-633f-47a9-bd25-4425f3fb8536 label.sk-toggleable__label-arrow:before {content: \"▸\";float: left;margin-right: 0.25em;color: #696969;}#sk-61e19b8d-633f-47a9-bd25-4425f3fb8536 label.sk-toggleable__label-arrow:hover:before {color: black;}#sk-61e19b8d-633f-47a9-bd25-4425f3fb8536 div.sk-estimator:hover label.sk-toggleable__label-arrow:before {color: black;}#sk-61e19b8d-633f-47a9-bd25-4425f3fb8536 div.sk-toggleable__content {max-height: 0;max-width: 0;overflow: hidden;text-align: left;background-color: #f0f8ff;}#sk-61e19b8d-633f-47a9-bd25-4425f3fb8536 div.sk-toggleable__content pre {margin: 0.2em;color: black;border-radius: 0.25em;background-color: #f0f8ff;}#sk-61e19b8d-633f-47a9-bd25-4425f3fb8536 input.sk-toggleable__control:checked~div.sk-toggleable__content {max-height: 200px;max-width: 100%;overflow: auto;}#sk-61e19b8d-633f-47a9-bd25-4425f3fb8536 input.sk-toggleable__control:checked~label.sk-toggleable__label-arrow:before {content: \"▾\";}#sk-61e19b8d-633f-47a9-bd25-4425f3fb8536 div.sk-estimator input.sk-toggleable__control:checked~label.sk-toggleable__label {background-color: #d4ebff;}#sk-61e19b8d-633f-47a9-bd25-4425f3fb8536 div.sk-label input.sk-toggleable__control:checked~label.sk-toggleable__label {background-color: #d4ebff;}#sk-61e19b8d-633f-47a9-bd25-4425f3fb8536 input.sk-hidden--visually {border: 0;clip: rect(1px 1px 1px 1px);clip: rect(1px, 1px, 1px, 1px);height: 1px;margin: -1px;overflow: hidden;padding: 0;position: absolute;width: 1px;}#sk-61e19b8d-633f-47a9-bd25-4425f3fb8536 div.sk-estimator {font-family: monospace;background-color: #f0f8ff;border: 1px dotted black;border-radius: 0.25em;box-sizing: border-box;margin-bottom: 0.5em;}#sk-61e19b8d-633f-47a9-bd25-4425f3fb8536 div.sk-estimator:hover {background-color: #d4ebff;}#sk-61e19b8d-633f-47a9-bd25-4425f3fb8536 div.sk-parallel-item::after {content: \"\";width: 100%;border-bottom: 1px solid gray;flex-grow: 1;}#sk-61e19b8d-633f-47a9-bd25-4425f3fb8536 div.sk-label:hover label.sk-toggleable__label {background-color: #d4ebff;}#sk-61e19b8d-633f-47a9-bd25-4425f3fb8536 div.sk-serial::before {content: \"\";position: absolute;border-left: 1px solid gray;box-sizing: border-box;top: 2em;bottom: 0;left: 50%;}#sk-61e19b8d-633f-47a9-bd25-4425f3fb8536 div.sk-serial {display: flex;flex-direction: column;align-items: center;background-color: white;padding-right: 0.2em;padding-left: 0.2em;}#sk-61e19b8d-633f-47a9-bd25-4425f3fb8536 div.sk-item {z-index: 1;}#sk-61e19b8d-633f-47a9-bd25-4425f3fb8536 div.sk-parallel {display: flex;align-items: stretch;justify-content: center;background-color: white;}#sk-61e19b8d-633f-47a9-bd25-4425f3fb8536 div.sk-parallel::before {content: \"\";position: absolute;border-left: 1px solid gray;box-sizing: border-box;top: 2em;bottom: 0;left: 50%;}#sk-61e19b8d-633f-47a9-bd25-4425f3fb8536 div.sk-parallel-item {display: flex;flex-direction: column;position: relative;background-color: white;}#sk-61e19b8d-633f-47a9-bd25-4425f3fb8536 div.sk-parallel-item:first-child::after {align-self: flex-end;width: 50%;}#sk-61e19b8d-633f-47a9-bd25-4425f3fb8536 div.sk-parallel-item:last-child::after {align-self: flex-start;width: 50%;}#sk-61e19b8d-633f-47a9-bd25-4425f3fb8536 div.sk-parallel-item:only-child::after {width: 0;}#sk-61e19b8d-633f-47a9-bd25-4425f3fb8536 div.sk-dashed-wrapped {border: 1px dashed gray;margin: 0 0.4em 0.5em 0.4em;box-sizing: border-box;padding-bottom: 0.4em;background-color: white;position: relative;}#sk-61e19b8d-633f-47a9-bd25-4425f3fb8536 div.sk-label label {font-family: monospace;font-weight: bold;background-color: white;display: inline-block;line-height: 1.2em;}#sk-61e19b8d-633f-47a9-bd25-4425f3fb8536 div.sk-label-container {position: relative;z-index: 2;text-align: center;}#sk-61e19b8d-633f-47a9-bd25-4425f3fb8536 div.sk-container {/* jupyter's `normalize.less` sets `[hidden] { display: none; }` but bootstrap.min.css set `[hidden] { display: none !important; }` so we also need the `!important` here to be able to override the default hidden behavior on the sphinx rendered scikit-learn.org. See: https://github.com/scikit-learn/scikit-learn/issues/21755 */display: inline-block !important;position: relative;}#sk-61e19b8d-633f-47a9-bd25-4425f3fb8536 div.sk-text-repr-fallback {display: none;}</style><div id=\"sk-61e19b8d-633f-47a9-bd25-4425f3fb8536\" class=\"sk-top-container\"><div class=\"sk-text-repr-fallback\"><pre>Pipeline(steps=[(&#x27;scaler&#x27;, StandardScaler()), (&#x27;lasso&#x27;, Lasso())])</pre><b>Please rerun this cell to show the HTML repr or trust the notebook.</b></div><div class=\"sk-container\" hidden><div class=\"sk-item sk-dashed-wrapped\"><div class=\"sk-label-container\"><div class=\"sk-label sk-toggleable\"><input class=\"sk-toggleable__control sk-hidden--visually\" id=\"732d374f-35db-4c87-9ce8-94cc19e37eef\" type=\"checkbox\" ><label for=\"732d374f-35db-4c87-9ce8-94cc19e37eef\" class=\"sk-toggleable__label sk-toggleable__label-arrow\">Pipeline</label><div class=\"sk-toggleable__content\"><pre>Pipeline(steps=[(&#x27;scaler&#x27;, StandardScaler()), (&#x27;lasso&#x27;, Lasso())])</pre></div></div></div><div class=\"sk-serial\"><div class=\"sk-item\"><div class=\"sk-estimator sk-toggleable\"><input class=\"sk-toggleable__control sk-hidden--visually\" id=\"24710e1a-b7eb-48ff-8d3b-b62716121ee2\" type=\"checkbox\" ><label for=\"24710e1a-b7eb-48ff-8d3b-b62716121ee2\" class=\"sk-toggleable__label sk-toggleable__label-arrow\">StandardScaler</label><div class=\"sk-toggleable__content\"><pre>StandardScaler()</pre></div></div></div><div class=\"sk-item\"><div class=\"sk-estimator sk-toggleable\"><input class=\"sk-toggleable__control sk-hidden--visually\" id=\"d73a70ad-6927-4e8c-87a5-4b1e8fe70f2d\" type=\"checkbox\" ><label for=\"d73a70ad-6927-4e8c-87a5-4b1e8fe70f2d\" class=\"sk-toggleable__label sk-toggleable__label-arrow\">Lasso</label><div class=\"sk-toggleable__content\"><pre>Lasso()</pre></div></div></div></div></div></div></div>"
      ],
      "text/plain": [
       "Pipeline(steps=[('scaler', StandardScaler()), ('lasso', Lasso())])"
      ]
     },
     "execution_count": 53,
     "metadata": {},
     "output_type": "execute_result"
    }
   ],
   "source": [
    "# Specifying alpha values to try out when using GridSearchCV\n",
    "# Had to adjust values since I noticed that when alpha value was set too high, every coefficient value became zero\n",
    "# Intially used same values used in ridge model (0, 5, 50)\n",
    "lasso_param_dict = {'lasso__alpha': np.logspace(-1.5, 2, 50)}\n",
    "\n",
    "# create a two step pipeline where the first step involves standardizing the data followed by perform lasso regression\n",
    "lasso_pipe = Pipeline([('scaler', StandardScaler()), \n",
    "                      ('lasso', Lasso())])\n",
    "\n",
    "# Using GridSearchCV to find the optimal value for alpha in the Lasso regression model\n",
    "# we include parameter cv = 5 to specify the type of cross-validation to use (k-fold cross-validation)\n",
    "lasso_grid = GridSearchCV(lasso_pipe, param_grid = lasso_param_dict, cv = 5)\n",
    "lasso_grid.fit(X_train, y_train)\n",
    "lasso_train_preds = lasso_grid.predict(X_train)\n",
    "lasso_test_preds = lasso_grid.predict(X_test)\n",
    "lasso_train_mse = mean_squared_error(y_train, lasso_train_preds)\n",
    "lasso_test_mse = mean_squared_error(y_test, lasso_test_preds)\n",
    "\n",
    "print(f'Train MSE: {lasso_train_mse}')\n",
    "print(f'Test MSE: {lasso_test_mse}')\n",
    "lasso_pipe"
   ]
  },
  {
   "cell_type": "code",
   "execution_count": 54,
   "metadata": {},
   "outputs": [],
   "source": [
    "# extracting best estimator (pipeline)\n",
    "best_estimator_lasso = lasso_grid.best_estimator_\n",
    "\n",
    "# extract model step from best estimator\n",
    "best_model_lasso = best_estimator_lasso.named_steps['lasso']\n",
    "\n",
    "feature_names = X_train.columns\n",
    "\n",
    "# extract feature coefficients\n",
    "coefs_lasso = best_model_lasso.coef_"
   ]
  },
  {
   "cell_type": "code",
   "execution_count": 55,
   "metadata": {},
   "outputs": [
    {
     "data": {
      "text/html": [
       "<style>#sk-8f7ae5e4-c167-47d2-beb6-e3720b372b77 {color: black;background-color: white;}#sk-8f7ae5e4-c167-47d2-beb6-e3720b372b77 pre{padding: 0;}#sk-8f7ae5e4-c167-47d2-beb6-e3720b372b77 div.sk-toggleable {background-color: white;}#sk-8f7ae5e4-c167-47d2-beb6-e3720b372b77 label.sk-toggleable__label {cursor: pointer;display: block;width: 100%;margin-bottom: 0;padding: 0.3em;box-sizing: border-box;text-align: center;}#sk-8f7ae5e4-c167-47d2-beb6-e3720b372b77 label.sk-toggleable__label-arrow:before {content: \"▸\";float: left;margin-right: 0.25em;color: #696969;}#sk-8f7ae5e4-c167-47d2-beb6-e3720b372b77 label.sk-toggleable__label-arrow:hover:before {color: black;}#sk-8f7ae5e4-c167-47d2-beb6-e3720b372b77 div.sk-estimator:hover label.sk-toggleable__label-arrow:before {color: black;}#sk-8f7ae5e4-c167-47d2-beb6-e3720b372b77 div.sk-toggleable__content {max-height: 0;max-width: 0;overflow: hidden;text-align: left;background-color: #f0f8ff;}#sk-8f7ae5e4-c167-47d2-beb6-e3720b372b77 div.sk-toggleable__content pre {margin: 0.2em;color: black;border-radius: 0.25em;background-color: #f0f8ff;}#sk-8f7ae5e4-c167-47d2-beb6-e3720b372b77 input.sk-toggleable__control:checked~div.sk-toggleable__content {max-height: 200px;max-width: 100%;overflow: auto;}#sk-8f7ae5e4-c167-47d2-beb6-e3720b372b77 input.sk-toggleable__control:checked~label.sk-toggleable__label-arrow:before {content: \"▾\";}#sk-8f7ae5e4-c167-47d2-beb6-e3720b372b77 div.sk-estimator input.sk-toggleable__control:checked~label.sk-toggleable__label {background-color: #d4ebff;}#sk-8f7ae5e4-c167-47d2-beb6-e3720b372b77 div.sk-label input.sk-toggleable__control:checked~label.sk-toggleable__label {background-color: #d4ebff;}#sk-8f7ae5e4-c167-47d2-beb6-e3720b372b77 input.sk-hidden--visually {border: 0;clip: rect(1px 1px 1px 1px);clip: rect(1px, 1px, 1px, 1px);height: 1px;margin: -1px;overflow: hidden;padding: 0;position: absolute;width: 1px;}#sk-8f7ae5e4-c167-47d2-beb6-e3720b372b77 div.sk-estimator {font-family: monospace;background-color: #f0f8ff;border: 1px dotted black;border-radius: 0.25em;box-sizing: border-box;margin-bottom: 0.5em;}#sk-8f7ae5e4-c167-47d2-beb6-e3720b372b77 div.sk-estimator:hover {background-color: #d4ebff;}#sk-8f7ae5e4-c167-47d2-beb6-e3720b372b77 div.sk-parallel-item::after {content: \"\";width: 100%;border-bottom: 1px solid gray;flex-grow: 1;}#sk-8f7ae5e4-c167-47d2-beb6-e3720b372b77 div.sk-label:hover label.sk-toggleable__label {background-color: #d4ebff;}#sk-8f7ae5e4-c167-47d2-beb6-e3720b372b77 div.sk-serial::before {content: \"\";position: absolute;border-left: 1px solid gray;box-sizing: border-box;top: 2em;bottom: 0;left: 50%;}#sk-8f7ae5e4-c167-47d2-beb6-e3720b372b77 div.sk-serial {display: flex;flex-direction: column;align-items: center;background-color: white;padding-right: 0.2em;padding-left: 0.2em;}#sk-8f7ae5e4-c167-47d2-beb6-e3720b372b77 div.sk-item {z-index: 1;}#sk-8f7ae5e4-c167-47d2-beb6-e3720b372b77 div.sk-parallel {display: flex;align-items: stretch;justify-content: center;background-color: white;}#sk-8f7ae5e4-c167-47d2-beb6-e3720b372b77 div.sk-parallel::before {content: \"\";position: absolute;border-left: 1px solid gray;box-sizing: border-box;top: 2em;bottom: 0;left: 50%;}#sk-8f7ae5e4-c167-47d2-beb6-e3720b372b77 div.sk-parallel-item {display: flex;flex-direction: column;position: relative;background-color: white;}#sk-8f7ae5e4-c167-47d2-beb6-e3720b372b77 div.sk-parallel-item:first-child::after {align-self: flex-end;width: 50%;}#sk-8f7ae5e4-c167-47d2-beb6-e3720b372b77 div.sk-parallel-item:last-child::after {align-self: flex-start;width: 50%;}#sk-8f7ae5e4-c167-47d2-beb6-e3720b372b77 div.sk-parallel-item:only-child::after {width: 0;}#sk-8f7ae5e4-c167-47d2-beb6-e3720b372b77 div.sk-dashed-wrapped {border: 1px dashed gray;margin: 0 0.4em 0.5em 0.4em;box-sizing: border-box;padding-bottom: 0.4em;background-color: white;position: relative;}#sk-8f7ae5e4-c167-47d2-beb6-e3720b372b77 div.sk-label label {font-family: monospace;font-weight: bold;background-color: white;display: inline-block;line-height: 1.2em;}#sk-8f7ae5e4-c167-47d2-beb6-e3720b372b77 div.sk-label-container {position: relative;z-index: 2;text-align: center;}#sk-8f7ae5e4-c167-47d2-beb6-e3720b372b77 div.sk-container {/* jupyter's `normalize.less` sets `[hidden] { display: none; }` but bootstrap.min.css set `[hidden] { display: none !important; }` so we also need the `!important` here to be able to override the default hidden behavior on the sphinx rendered scikit-learn.org. See: https://github.com/scikit-learn/scikit-learn/issues/21755 */display: inline-block !important;position: relative;}#sk-8f7ae5e4-c167-47d2-beb6-e3720b372b77 div.sk-text-repr-fallback {display: none;}</style><div id=\"sk-8f7ae5e4-c167-47d2-beb6-e3720b372b77\" class=\"sk-top-container\"><div class=\"sk-text-repr-fallback\"><pre>Lasso(alpha=0.03162277660168379)</pre><b>Please rerun this cell to show the HTML repr or trust the notebook.</b></div><div class=\"sk-container\" hidden><div class=\"sk-item\"><div class=\"sk-estimator sk-toggleable\"><input class=\"sk-toggleable__control sk-hidden--visually\" id=\"2e4351da-798b-4ac7-88d2-4682f3fdec39\" type=\"checkbox\" checked><label for=\"2e4351da-798b-4ac7-88d2-4682f3fdec39\" class=\"sk-toggleable__label sk-toggleable__label-arrow\">Lasso</label><div class=\"sk-toggleable__content\"><pre>Lasso(alpha=0.03162277660168379)</pre></div></div></div></div></div>"
      ],
      "text/plain": [
       "Lasso(alpha=0.03162277660168379)"
      ]
     },
     "execution_count": 55,
     "metadata": {},
     "output_type": "execute_result"
    }
   ],
   "source": [
    "best_model_lasso"
   ]
  },
  {
   "cell_type": "markdown",
   "metadata": {},
   "source": [
    "**Observations**:\n",
    "- Optimal value chose for alpha ~ 0.032"
   ]
  },
  {
   "cell_type": "code",
   "execution_count": 56,
   "metadata": {
    "scrolled": true
   },
   "outputs": [
    {
     "name": "stdout",
     "output_type": "stream",
     "text": [
      "Cross-validation scores:  [0.61738474 0.61065636 0.60394449 0.60938088 0.60687191]\n",
      "Mean cross-validation score:  0.6096476784508839\n"
     ]
    }
   ],
   "source": [
    "# Assessing model using cross-validation using cross_val_score \n",
    "# Setting cv = 5, represents performing 5-fold cross-validation\n",
    "cv_scores_lasso = cross_val_score(best_model_lasso, X_train, y_train, cv = 5)\n",
    "\n",
    "mean_cv_score_lasso = np.mean(cv_scores_lasso)\n",
    "\n",
    "print(\"Cross-validation scores: \", cv_scores_lasso)\n",
    "print(\"Mean cross-validation score: \", mean_cv_score_lasso)"
   ]
  },
  {
   "cell_type": "markdown",
   "metadata": {},
   "source": [
    "**Observations**:\n",
    "- Mean cross-validation score obtained ~ 0.61 which is a bit surprising given the result of Test MSE above. \n",
    "- Similar to the previous model, was expecting a higher cross-validation score."
   ]
  },
  {
   "cell_type": "code",
   "execution_count": 57,
   "metadata": {},
   "outputs": [
    {
     "data": {
      "text/html": [
       "<div>\n",
       "<style scoped>\n",
       "    .dataframe tbody tr th:only-of-type {\n",
       "        vertical-align: middle;\n",
       "    }\n",
       "\n",
       "    .dataframe tbody tr th {\n",
       "        vertical-align: top;\n",
       "    }\n",
       "\n",
       "    .dataframe thead th {\n",
       "        text-align: right;\n",
       "    }\n",
       "</style>\n",
       "<table border=\"1\" class=\"dataframe\">\n",
       "  <thead>\n",
       "    <tr style=\"text-align: right;\">\n",
       "      <th></th>\n",
       "      <th>feature_names</th>\n",
       "      <th>coef</th>\n",
       "      <th>abs_coef</th>\n",
       "    </tr>\n",
       "  </thead>\n",
       "  <tbody>\n",
       "    <tr>\n",
       "      <th>2</th>\n",
       "      <td>odometer</td>\n",
       "      <td>-0.402233</td>\n",
       "      <td>0.402233</td>\n",
       "    </tr>\n",
       "    <tr>\n",
       "      <th>3</th>\n",
       "      <td>age</td>\n",
       "      <td>-0.194585</td>\n",
       "      <td>0.194585</td>\n",
       "    </tr>\n",
       "    <tr>\n",
       "      <th>1</th>\n",
       "      <td>cylinders</td>\n",
       "      <td>0.140694</td>\n",
       "      <td>0.140694</td>\n",
       "    </tr>\n",
       "    <tr>\n",
       "      <th>61</th>\n",
       "      <td>drive_fwd</td>\n",
       "      <td>-0.132872</td>\n",
       "      <td>0.132872</td>\n",
       "    </tr>\n",
       "    <tr>\n",
       "      <th>0</th>\n",
       "      <td>condition</td>\n",
       "      <td>0.099348</td>\n",
       "      <td>0.099348</td>\n",
       "    </tr>\n",
       "    <tr>\n",
       "      <th>46</th>\n",
       "      <td>fuel_diesel</td>\n",
       "      <td>0.084081</td>\n",
       "      <td>0.084081</td>\n",
       "    </tr>\n",
       "    <tr>\n",
       "      <th>59</th>\n",
       "      <td>transmission_other</td>\n",
       "      <td>0.082203</td>\n",
       "      <td>0.082203</td>\n",
       "    </tr>\n",
       "    <tr>\n",
       "      <th>72</th>\n",
       "      <td>type_sedan</td>\n",
       "      <td>-0.060419</td>\n",
       "      <td>0.060419</td>\n",
       "    </tr>\n",
       "    <tr>\n",
       "      <th>73</th>\n",
       "      <td>type_truck</td>\n",
       "      <td>0.050146</td>\n",
       "      <td>0.050146</td>\n",
       "    </tr>\n",
       "    <tr>\n",
       "      <th>48</th>\n",
       "      <td>fuel_gas</td>\n",
       "      <td>-0.035965</td>\n",
       "      <td>0.035965</td>\n",
       "    </tr>\n",
       "    <tr>\n",
       "      <th>60</th>\n",
       "      <td>drive_4wd</td>\n",
       "      <td>0.015803</td>\n",
       "      <td>0.015803</td>\n",
       "    </tr>\n",
       "    <tr>\n",
       "      <th>43</th>\n",
       "      <td>manufacturer_toyota</td>\n",
       "      <td>0.015674</td>\n",
       "      <td>0.015674</td>\n",
       "    </tr>\n",
       "    <tr>\n",
       "      <th>71</th>\n",
       "      <td>type_pickup</td>\n",
       "      <td>0.009491</td>\n",
       "      <td>0.009491</td>\n",
       "    </tr>\n",
       "    <tr>\n",
       "      <th>57</th>\n",
       "      <td>transmission_automatic</td>\n",
       "      <td>-0.008682</td>\n",
       "      <td>0.008682</td>\n",
       "    </tr>\n",
       "    <tr>\n",
       "      <th>51</th>\n",
       "      <td>title_status_clean</td>\n",
       "      <td>0.007861</td>\n",
       "      <td>0.007861</td>\n",
       "    </tr>\n",
       "    <tr>\n",
       "      <th>67</th>\n",
       "      <td>type_hatchback</td>\n",
       "      <td>-0.006263</td>\n",
       "      <td>0.006263</td>\n",
       "    </tr>\n",
       "    <tr>\n",
       "      <th>31</th>\n",
       "      <td>manufacturer_mercury</td>\n",
       "      <td>-0.004762</td>\n",
       "      <td>0.004762</td>\n",
       "    </tr>\n",
       "    <tr>\n",
       "      <th>86</th>\n",
       "      <td>paint_color_white</td>\n",
       "      <td>0.003837</td>\n",
       "      <td>0.003837</td>\n",
       "    </tr>\n",
       "    <tr>\n",
       "      <th>27</th>\n",
       "      <td>manufacturer_lexus</td>\n",
       "      <td>0.001052</td>\n",
       "      <td>0.001052</td>\n",
       "    </tr>\n",
       "    <tr>\n",
       "      <th>12</th>\n",
       "      <td>manufacturer_chrysler</td>\n",
       "      <td>-0.000346</td>\n",
       "      <td>0.000346</td>\n",
       "    </tr>\n",
       "    <tr>\n",
       "      <th>40</th>\n",
       "      <td>manufacturer_saturn</td>\n",
       "      <td>-0.000284</td>\n",
       "      <td>0.000284</td>\n",
       "    </tr>\n",
       "    <tr>\n",
       "      <th>98</th>\n",
       "      <td>state_ga</td>\n",
       "      <td>0.000000</td>\n",
       "      <td>0.000000</td>\n",
       "    </tr>\n",
       "    <tr>\n",
       "      <th>99</th>\n",
       "      <td>state_hi</td>\n",
       "      <td>0.000000</td>\n",
       "      <td>0.000000</td>\n",
       "    </tr>\n",
       "    <tr>\n",
       "      <th>95</th>\n",
       "      <td>state_dc</td>\n",
       "      <td>-0.000000</td>\n",
       "      <td>0.000000</td>\n",
       "    </tr>\n",
       "    <tr>\n",
       "      <th>97</th>\n",
       "      <td>state_fl</td>\n",
       "      <td>-0.000000</td>\n",
       "      <td>0.000000</td>\n",
       "    </tr>\n",
       "  </tbody>\n",
       "</table>\n",
       "</div>"
      ],
      "text/plain": [
       "             feature_names      coef  abs_coef\n",
       "2                 odometer -0.402233  0.402233\n",
       "3                      age -0.194585  0.194585\n",
       "1                cylinders  0.140694  0.140694\n",
       "61               drive_fwd -0.132872  0.132872\n",
       "0                condition  0.099348  0.099348\n",
       "46             fuel_diesel  0.084081  0.084081\n",
       "59      transmission_other  0.082203  0.082203\n",
       "72              type_sedan -0.060419  0.060419\n",
       "73              type_truck  0.050146  0.050146\n",
       "48                fuel_gas -0.035965  0.035965\n",
       "60               drive_4wd  0.015803  0.015803\n",
       "43     manufacturer_toyota  0.015674  0.015674\n",
       "71             type_pickup  0.009491  0.009491\n",
       "57  transmission_automatic -0.008682  0.008682\n",
       "51      title_status_clean  0.007861  0.007861\n",
       "67          type_hatchback -0.006263  0.006263\n",
       "31    manufacturer_mercury -0.004762  0.004762\n",
       "86       paint_color_white  0.003837  0.003837\n",
       "27      manufacturer_lexus  0.001052  0.001052\n",
       "12   manufacturer_chrysler -0.000346  0.000346\n",
       "40     manufacturer_saturn -0.000284  0.000284\n",
       "98                state_ga  0.000000  0.000000\n",
       "99                state_hi  0.000000  0.000000\n",
       "95                state_dc -0.000000  0.000000\n",
       "97                state_fl -0.000000  0.000000"
      ]
     },
     "execution_count": 57,
     "metadata": {},
     "output_type": "execute_result"
    }
   ],
   "source": [
    "# Creating dataframe for coefficients\n",
    "# Adding a third column that views the magnitude of the coefficients, displayed in descending order\n",
    "coeff_lasso_df = pd.DataFrame.from_dict({'feature_names':feature_names,'coef':coefs_lasso})\n",
    "coeff_lasso_df['abs_coef'] = abs(coeff_lasso_df.coef)\n",
    "coeff_lasso_df = coeff_lasso_df.sort_values(by='abs_coef', ascending = False)\n",
    "coeff_lasso_df.head(25)"
   ]
  },
  {
   "cell_type": "code",
   "execution_count": 58,
   "metadata": {},
   "outputs": [],
   "source": [
    "top_15_coeff_lasso = coeff_lasso_df.head(15)"
   ]
  },
  {
   "cell_type": "code",
   "execution_count": 59,
   "metadata": {
    "scrolled": true
   },
   "outputs": [
    {
     "data": {
      "image/png": "[encoded data removed]",
      "text/plain": [
       "<Figure size 1000x600 with 1 Axes>"
      ]
     },
     "metadata": {},
     "output_type": "display_data"
    }
   ],
   "source": [
    "plt.figure(figsize=(10, 6))\n",
    "sns.barplot(x = 'coef', y = 'feature_names', data = top_15_coeff_lasso, orient = 'h')\n",
    "plt.title('Feature Coefficients (Lasso)')\n",
    "plt.xlabel('Coefficient Value')\n",
    "plt.ylabel('Feature')\n",
    "plt.show()"
   ]
  },
  {
   "cell_type": "code",
   "execution_count": 60,
   "metadata": {
    "scrolled": true
   },
   "outputs": [],
   "source": [
    "# Examining Feature Importance\n",
    "perm_importance = permutation_importance(best_estimator_lasso, X_train, y_train, n_repeats=10, random_state=42)\n",
    "\n",
    "# Get the feature importances\n",
    "feature_importances_lasso = perm_importance.importances_mean\n",
    "\n",
    "# Get the indices of features sorted by importance\n",
    "sorted_idx = np.argsort(feature_importances_lasso)[::-1]\n",
    "\n",
    "# Create dataframe for feature and corresponding importance value\n",
    "lasso_feature_importance_df = pd.DataFrame({'Feature': X.columns[sorted_idx],\n",
    "                                      'Importance': feature_importances_lasso[sorted_idx]})"
   ]
  },
  {
   "cell_type": "code",
   "execution_count": 61,
   "metadata": {
    "scrolled": true
   },
   "outputs": [
    {
     "data": {
      "text/html": [
       "<div>\n",
       "<style scoped>\n",
       "    .dataframe tbody tr th:only-of-type {\n",
       "        vertical-align: middle;\n",
       "    }\n",
       "\n",
       "    .dataframe tbody tr th {\n",
       "        vertical-align: top;\n",
       "    }\n",
       "\n",
       "    .dataframe thead th {\n",
       "        text-align: right;\n",
       "    }\n",
       "</style>\n",
       "<table border=\"1\" class=\"dataframe\">\n",
       "  <thead>\n",
       "    <tr style=\"text-align: right;\">\n",
       "      <th></th>\n",
       "      <th>Feature</th>\n",
       "      <th>Importance</th>\n",
       "    </tr>\n",
       "  </thead>\n",
       "  <tbody>\n",
       "    <tr>\n",
       "      <th>0</th>\n",
       "      <td>odometer</td>\n",
       "      <td>0.464700</td>\n",
       "    </tr>\n",
       "    <tr>\n",
       "      <th>1</th>\n",
       "      <td>age</td>\n",
       "      <td>0.117430</td>\n",
       "    </tr>\n",
       "    <tr>\n",
       "      <th>2</th>\n",
       "      <td>cylinders</td>\n",
       "      <td>0.064724</td>\n",
       "    </tr>\n",
       "    <tr>\n",
       "      <th>3</th>\n",
       "      <td>drive_fwd</td>\n",
       "      <td>0.057964</td>\n",
       "    </tr>\n",
       "    <tr>\n",
       "      <th>4</th>\n",
       "      <td>condition</td>\n",
       "      <td>0.034570</td>\n",
       "    </tr>\n",
       "    <tr>\n",
       "      <th>5</th>\n",
       "      <td>fuel_diesel</td>\n",
       "      <td>0.025717</td>\n",
       "    </tr>\n",
       "    <tr>\n",
       "      <th>6</th>\n",
       "      <td>transmission_other</td>\n",
       "      <td>0.025090</td>\n",
       "    </tr>\n",
       "    <tr>\n",
       "      <th>7</th>\n",
       "      <td>type_sedan</td>\n",
       "      <td>0.014856</td>\n",
       "    </tr>\n",
       "    <tr>\n",
       "      <th>8</th>\n",
       "      <td>type_truck</td>\n",
       "      <td>0.010998</td>\n",
       "    </tr>\n",
       "    <tr>\n",
       "      <th>9</th>\n",
       "      <td>fuel_gas</td>\n",
       "      <td>0.006366</td>\n",
       "    </tr>\n",
       "    <tr>\n",
       "      <th>10</th>\n",
       "      <td>manufacturer_toyota</td>\n",
       "      <td>0.001971</td>\n",
       "    </tr>\n",
       "    <tr>\n",
       "      <th>11</th>\n",
       "      <td>drive_4wd</td>\n",
       "      <td>0.001964</td>\n",
       "    </tr>\n",
       "    <tr>\n",
       "      <th>12</th>\n",
       "      <td>type_pickup</td>\n",
       "      <td>0.001038</td>\n",
       "    </tr>\n",
       "    <tr>\n",
       "      <th>13</th>\n",
       "      <td>transmission_automatic</td>\n",
       "      <td>0.000952</td>\n",
       "    </tr>\n",
       "    <tr>\n",
       "      <th>14</th>\n",
       "      <td>title_status_clean</td>\n",
       "      <td>0.000828</td>\n",
       "    </tr>\n",
       "  </tbody>\n",
       "</table>\n",
       "</div>"
      ],
      "text/plain": [
       "                   Feature  Importance\n",
       "0                 odometer    0.464700\n",
       "1                      age    0.117430\n",
       "2                cylinders    0.064724\n",
       "3                drive_fwd    0.057964\n",
       "4                condition    0.034570\n",
       "5              fuel_diesel    0.025717\n",
       "6       transmission_other    0.025090\n",
       "7               type_sedan    0.014856\n",
       "8               type_truck    0.010998\n",
       "9                 fuel_gas    0.006366\n",
       "10     manufacturer_toyota    0.001971\n",
       "11               drive_4wd    0.001964\n",
       "12             type_pickup    0.001038\n",
       "13  transmission_automatic    0.000952\n",
       "14      title_status_clean    0.000828"
      ]
     },
     "execution_count": 61,
     "metadata": {},
     "output_type": "execute_result"
    }
   ],
   "source": [
    "lasso_feature_importance_df.head(15)"
   ]
  },
  {
   "cell_type": "code",
   "execution_count": 62,
   "metadata": {},
   "outputs": [],
   "source": [
    "top_15_important_feat_lasso = lasso_feature_importance_df.head(15)"
   ]
  },
  {
   "cell_type": "code",
   "execution_count": 63,
   "metadata": {},
   "outputs": [
    {
     "data": {
      "image/png": "[encoded data removed]",
      "text/plain": [
       "<Figure size 1000x600 with 1 Axes>"
      ]
     },
     "metadata": {},
     "output_type": "display_data"
    }
   ],
   "source": [
    "plt.figure(figsize=(10, 6))\n",
    "sns.barplot(x = 'Importance', y = 'Feature', data = top_15_important_feat_lasso, orient = 'h')\n",
    "plt.title('Feature Importance (Lasso)')\n",
    "plt.xlabel('Importance Value')\n",
    "plt.ylabel('Feature')\n",
    "plt.show()"
   ]
  },
  {
   "cell_type": "markdown",
   "metadata": {},
   "source": [
    "### Evaluation\n",
    "\n",
    "With some modeling accomplished, we aim to reflect on what we identify as a high quality model and what we are able to learn from this.  We should review our business objective and explore how well we can provide meaningful insight on drivers of used car prices.  Your goal now is to distill your findings and determine whether the earlier phases need revisitation and adjustment or if you have information of value to bring back to your client."
   ]
  },
  {
   "cell_type": "markdown",
   "metadata": {},
   "source": [
    "**Findings**:"
   ]
  },
  {
   "cell_type": "markdown",
   "metadata": {},
   "source": [
    "To quickly recap, the goal is to help our client better understand what attributes drive the prices of used cars. In order to identify these key drivers, we built three different models, which we will now proceed to evaluate and discern meaningful information. "
   ]
  },
  {
   "cell_type": "markdown",
   "metadata": {},
   "source": [
    "Among the three models, the first model (Linear Regression) performed the worst. In particular, the Test MSE was extremely high (4.466281688553043e+18) which led to the conclusion that this was not a suitable model for extracting meaningful information regarding key drivers. In contrast, both the ridge regression model and lasso regression model performed much better, arriving at comparable results. In terms of Test MSE, ridge regression performed slightly better than lasso regression (0.23 vs 0.26). Besides computing Train and Test MSE, we obtained feature coefficients as well as explored feature importance."
   ]
  },
  {
   "cell_type": "markdown",
   "metadata": {},
   "source": [
    "**Comparing feature coefficients:**"
   ]
  },
  {
   "cell_type": "markdown",
   "metadata": {},
   "source": [
    "First, to evaluate feature coefficients, it would be beneficial to view the magnitude of the coefficient (the signs simply indicate positive or negative relationship). These are the top 5 features with the highest coefficient obtained for both ridge and lasso respectively:\n",
    "\n",
    "<!-- Ridge Regression:\n",
    "1. odometer (0.415384)\n",
    "2. age (0.212133)\n",
    "3. cylinders (0.144849)\t\n",
    "4. condition (0.132305)\t\n",
    "5. fuel_diesel (0.083760)\n",
    "\n",
    "Lasso Regression:\n",
    "1. odometer (0.402233)\n",
    "2. age (0.194585)\n",
    "3. cylinders (0.140694)\t\n",
    "4. drive_fwd (0.132872)\n",
    "5. condition (0.099348) -->"
   ]
  },
  {
   "cell_type": "markdown",
   "metadata": {},
   "source": [
    "**Ridge Regression top 5 features based on coefficients**:"
   ]
  },
  {
   "cell_type": "code",
   "execution_count": 64,
   "metadata": {
    "scrolled": false
   },
   "outputs": [
    {
     "data": {
      "text/html": [
       "<div>\n",
       "<style scoped>\n",
       "    .dataframe tbody tr th:only-of-type {\n",
       "        vertical-align: middle;\n",
       "    }\n",
       "\n",
       "    .dataframe tbody tr th {\n",
       "        vertical-align: top;\n",
       "    }\n",
       "\n",
       "    .dataframe thead th {\n",
       "        text-align: right;\n",
       "    }\n",
       "</style>\n",
       "<table border=\"1\" class=\"dataframe\">\n",
       "  <thead>\n",
       "    <tr style=\"text-align: right;\">\n",
       "      <th></th>\n",
       "      <th>feature_names</th>\n",
       "      <th>coef</th>\n",
       "      <th>abs_coef</th>\n",
       "    </tr>\n",
       "  </thead>\n",
       "  <tbody>\n",
       "    <tr>\n",
       "      <th>2</th>\n",
       "      <td>odometer</td>\n",
       "      <td>-0.415384</td>\n",
       "      <td>0.415384</td>\n",
       "    </tr>\n",
       "    <tr>\n",
       "      <th>3</th>\n",
       "      <td>age</td>\n",
       "      <td>-0.212133</td>\n",
       "      <td>0.212133</td>\n",
       "    </tr>\n",
       "    <tr>\n",
       "      <th>1</th>\n",
       "      <td>cylinders</td>\n",
       "      <td>0.144849</td>\n",
       "      <td>0.144849</td>\n",
       "    </tr>\n",
       "    <tr>\n",
       "      <th>0</th>\n",
       "      <td>condition</td>\n",
       "      <td>0.132305</td>\n",
       "      <td>0.132305</td>\n",
       "    </tr>\n",
       "    <tr>\n",
       "      <th>46</th>\n",
       "      <td>fuel_diesel</td>\n",
       "      <td>0.083760</td>\n",
       "      <td>0.083760</td>\n",
       "    </tr>\n",
       "  </tbody>\n",
       "</table>\n",
       "</div>"
      ],
      "text/plain": [
       "   feature_names      coef  abs_coef\n",
       "2       odometer -0.415384  0.415384\n",
       "3            age -0.212133  0.212133\n",
       "1      cylinders  0.144849  0.144849\n",
       "0      condition  0.132305  0.132305\n",
       "46   fuel_diesel  0.083760  0.083760"
      ]
     },
     "execution_count": 64,
     "metadata": {},
     "output_type": "execute_result"
    }
   ],
   "source": [
    "# Ridge Regression top 5 features\n",
    "coeff_ridge_df.head(5)"
   ]
  },
  {
   "cell_type": "markdown",
   "metadata": {},
   "source": [
    "**Lasso Regression top 5 features based on coefficients**:"
   ]
  },
  {
   "cell_type": "code",
   "execution_count": 65,
   "metadata": {},
   "outputs": [
    {
     "data": {
      "text/html": [
       "<div>\n",
       "<style scoped>\n",
       "    .dataframe tbody tr th:only-of-type {\n",
       "        vertical-align: middle;\n",
       "    }\n",
       "\n",
       "    .dataframe tbody tr th {\n",
       "        vertical-align: top;\n",
       "    }\n",
       "\n",
       "    .dataframe thead th {\n",
       "        text-align: right;\n",
       "    }\n",
       "</style>\n",
       "<table border=\"1\" class=\"dataframe\">\n",
       "  <thead>\n",
       "    <tr style=\"text-align: right;\">\n",
       "      <th></th>\n",
       "      <th>feature_names</th>\n",
       "      <th>coef</th>\n",
       "      <th>abs_coef</th>\n",
       "    </tr>\n",
       "  </thead>\n",
       "  <tbody>\n",
       "    <tr>\n",
       "      <th>2</th>\n",
       "      <td>odometer</td>\n",
       "      <td>-0.402233</td>\n",
       "      <td>0.402233</td>\n",
       "    </tr>\n",
       "    <tr>\n",
       "      <th>3</th>\n",
       "      <td>age</td>\n",
       "      <td>-0.194585</td>\n",
       "      <td>0.194585</td>\n",
       "    </tr>\n",
       "    <tr>\n",
       "      <th>1</th>\n",
       "      <td>cylinders</td>\n",
       "      <td>0.140694</td>\n",
       "      <td>0.140694</td>\n",
       "    </tr>\n",
       "    <tr>\n",
       "      <th>61</th>\n",
       "      <td>drive_fwd</td>\n",
       "      <td>-0.132872</td>\n",
       "      <td>0.132872</td>\n",
       "    </tr>\n",
       "    <tr>\n",
       "      <th>0</th>\n",
       "      <td>condition</td>\n",
       "      <td>0.099348</td>\n",
       "      <td>0.099348</td>\n",
       "    </tr>\n",
       "  </tbody>\n",
       "</table>\n",
       "</div>"
      ],
      "text/plain": [
       "   feature_names      coef  abs_coef\n",
       "2       odometer -0.402233  0.402233\n",
       "3            age -0.194585  0.194585\n",
       "1      cylinders  0.140694  0.140694\n",
       "61     drive_fwd -0.132872  0.132872\n",
       "0      condition  0.099348  0.099348"
      ]
     },
     "execution_count": 65,
     "metadata": {},
     "output_type": "execute_result"
    }
   ],
   "source": [
    "# Lasso Regression top 5 features\n",
    "coeff_lasso_df.head(5)"
   ]
  },
  {
   "cell_type": "markdown",
   "metadata": {},
   "source": [
    "As we can see both models arrived at similar conclusions regarding features with highest coefficients (magnitude). The top three features remain the same (odometer, age, cylinders) while the fourth and fifth features slightly differ. Based on the results, I believe that we can confidently say that odometer, age, and cylinders are key drivers for used car prices. "
   ]
  },
  {
   "cell_type": "markdown",
   "metadata": {},
   "source": [
    "**Comparing feature importance**:"
   ]
  },
  {
   "cell_type": "markdown",
   "metadata": {},
   "source": [
    "In addition, to feature coefficients, we also explored feature importance. Similarly, we will examine the top 5 features for both models.\n",
    "\n",
    "<!-- Ridge Regression:\n",
    "1. odometer\t(0.459847)\n",
    "2. age\t(0.120039)\n",
    "3. cylinders (0.056127)\n",
    "4. condition (0.046523)\n",
    "5. fuel_diesel\t(0.018584)\n",
    "\n",
    "Lasso Regression:\n",
    "1. odometer\t(0.464700)\n",
    "2. age\t(0.117430)\n",
    "3. cylinders (0.064724)\n",
    "4. drive_fwd (0.057964)\n",
    "5. condition (0.034570) -->"
   ]
  },
  {
   "cell_type": "markdown",
   "metadata": {},
   "source": [
    "**Ridge Regression top 5 features based on importance**:"
   ]
  },
  {
   "cell_type": "code",
   "execution_count": 66,
   "metadata": {},
   "outputs": [
    {
     "data": {
      "text/html": [
       "<div>\n",
       "<style scoped>\n",
       "    .dataframe tbody tr th:only-of-type {\n",
       "        vertical-align: middle;\n",
       "    }\n",
       "\n",
       "    .dataframe tbody tr th {\n",
       "        vertical-align: top;\n",
       "    }\n",
       "\n",
       "    .dataframe thead th {\n",
       "        text-align: right;\n",
       "    }\n",
       "</style>\n",
       "<table border=\"1\" class=\"dataframe\">\n",
       "  <thead>\n",
       "    <tr style=\"text-align: right;\">\n",
       "      <th></th>\n",
       "      <th>Feature</th>\n",
       "      <th>Importance</th>\n",
       "    </tr>\n",
       "  </thead>\n",
       "  <tbody>\n",
       "    <tr>\n",
       "      <th>0</th>\n",
       "      <td>odometer</td>\n",
       "      <td>0.459847</td>\n",
       "    </tr>\n",
       "    <tr>\n",
       "      <th>1</th>\n",
       "      <td>age</td>\n",
       "      <td>0.120039</td>\n",
       "    </tr>\n",
       "    <tr>\n",
       "      <th>2</th>\n",
       "      <td>cylinders</td>\n",
       "      <td>0.056127</td>\n",
       "    </tr>\n",
       "    <tr>\n",
       "      <th>3</th>\n",
       "      <td>condition</td>\n",
       "      <td>0.046523</td>\n",
       "    </tr>\n",
       "    <tr>\n",
       "      <th>4</th>\n",
       "      <td>fuel_diesel</td>\n",
       "      <td>0.018584</td>\n",
       "    </tr>\n",
       "  </tbody>\n",
       "</table>\n",
       "</div>"
      ],
      "text/plain": [
       "       Feature  Importance\n",
       "0     odometer    0.459847\n",
       "1          age    0.120039\n",
       "2    cylinders    0.056127\n",
       "3    condition    0.046523\n",
       "4  fuel_diesel    0.018584"
      ]
     },
     "execution_count": 66,
     "metadata": {},
     "output_type": "execute_result"
    }
   ],
   "source": [
    "ridge_feature_importance_df.head(5)"
   ]
  },
  {
   "cell_type": "markdown",
   "metadata": {},
   "source": [
    "**Lasso Regression top 5 features based on importance**:"
   ]
  },
  {
   "cell_type": "code",
   "execution_count": 67,
   "metadata": {},
   "outputs": [
    {
     "data": {
      "text/html": [
       "<div>\n",
       "<style scoped>\n",
       "    .dataframe tbody tr th:only-of-type {\n",
       "        vertical-align: middle;\n",
       "    }\n",
       "\n",
       "    .dataframe tbody tr th {\n",
       "        vertical-align: top;\n",
       "    }\n",
       "\n",
       "    .dataframe thead th {\n",
       "        text-align: right;\n",
       "    }\n",
       "</style>\n",
       "<table border=\"1\" class=\"dataframe\">\n",
       "  <thead>\n",
       "    <tr style=\"text-align: right;\">\n",
       "      <th></th>\n",
       "      <th>Feature</th>\n",
       "      <th>Importance</th>\n",
       "    </tr>\n",
       "  </thead>\n",
       "  <tbody>\n",
       "    <tr>\n",
       "      <th>0</th>\n",
       "      <td>odometer</td>\n",
       "      <td>0.464700</td>\n",
       "    </tr>\n",
       "    <tr>\n",
       "      <th>1</th>\n",
       "      <td>age</td>\n",
       "      <td>0.117430</td>\n",
       "    </tr>\n",
       "    <tr>\n",
       "      <th>2</th>\n",
       "      <td>cylinders</td>\n",
       "      <td>0.064724</td>\n",
       "    </tr>\n",
       "    <tr>\n",
       "      <th>3</th>\n",
       "      <td>drive_fwd</td>\n",
       "      <td>0.057964</td>\n",
       "    </tr>\n",
       "    <tr>\n",
       "      <th>4</th>\n",
       "      <td>condition</td>\n",
       "      <td>0.034570</td>\n",
       "    </tr>\n",
       "  </tbody>\n",
       "</table>\n",
       "</div>"
      ],
      "text/plain": [
       "     Feature  Importance\n",
       "0   odometer    0.464700\n",
       "1        age    0.117430\n",
       "2  cylinders    0.064724\n",
       "3  drive_fwd    0.057964\n",
       "4  condition    0.034570"
      ]
     },
     "execution_count": 67,
     "metadata": {},
     "output_type": "execute_result"
    }
   ],
   "source": [
    "lasso_feature_importance_df.head(5)"
   ]
  },
  {
   "cell_type": "markdown",
   "metadata": {},
   "source": [
    "As we can see, the rankings align with our rankings obtained when looking at feature coefficients. This further confirms our key takeaways regarding key drivers for used card prices."
   ]
  },
  {
   "cell_type": "markdown",
   "metadata": {},
   "source": [
    "**Reflection**:\n",
    "- While shown are only the final findings, revisitation of earlier phases particularly data preparation and data modeling was necessary. In particular, preprocessing the data to remove outliers greatly helped increase the performance of the models. Additionally, experimenting wtih appropriate ranges for alpha values (to use in GridSearchCV) was essential. For example, one issue that I encountered earlier was all coefficient values from lasso model being zero which was due to choosing too high of a range for alpha. "
   ]
  },
  {
   "cell_type": "markdown",
   "metadata": {},
   "source": [
    "### Deployment\n",
    "\n",
    "Now that we've settled on our models and findings, it is time to deliver the information to the client.  You should organize your work as a basic report that details your primary findings.  Keep in mind that your audience is a group of used car dealers interested in fine tuning their inventory."
   ]
  },
  {
   "cell_type": "markdown",
   "metadata": {},
   "source": [
    "Dear client, using a collected dataset of used cars, we were able to identify key drivers of car prices using multiple machine learning models. Across the models, there were no disputes for the top three features important for determing car prices. The first important feature in predicting used car prices is odometer. More specifically, as the value of odometer increase, the price of used car decreases. The second important feature is age. Similar to odomoeter, as the age of the car increases, the price of the car decreases. The last important feature is number of cylinders. Unlike odometer and age, cylinders exhibits a positive relationship to car prices, meaning as the number of cylinders increases, the price of the car increases as well. We have also identified other potentially important features to consider across the two models. In particular, we found that condition of the car, the type of fuel used (in particular deisal) and front wheel drive configuration can have an impact as well. Both the condition of the car and deisal fuel exhibit a positive relationship with price while front wheel drive configurations exhibits a negative relationship. Therefore, if you want to mark used cars at higher prices, prioritize cars with lower odometer readings, newer manufactoring year, and higher number of cylinders."
   ]
  },
  {
   "cell_type": "markdown",
   "metadata": {},
   "source": [
    "### Future considerations and Next Steps\n"
   ]
  },
  {
   "cell_type": "markdown",
   "metadata": {},
   "source": [
    "Overall, we were able to extract meaningful data regarding key drivers for used car prices. However, during the data preparation steps, a sizeable amount of data was dropped since it proved difficult to impute missing values without the possibility of introducing bias. Two of the columns that were dropped were 'size' and 'model' which could be important when predicting car price. Therefore, it would be good to collect more complete date regarding these two features and see how the coefficients change. Additionally, it would be interesting to build a model incorporating polynomial degrees and see how it performs relative to the other models.  "
   ]
  },
  {
   "cell_type": "code",
   "execution_count": null,
   "metadata": {},
   "outputs": [],
   "source": []
  }
 ],
 "metadata": {
  "kernelspec": {
   "display_name": "Python 3 (ipykernel)",
   "language": "python",
   "name": "python3"
  },
  "language_info": {
   "codemirror_mode": {
    "name": "ipython",
    "version": 3
   },
   "file_extension": ".py",
   "mimetype": "text/x-python",
   "name": "python",
   "nbconvert_exporter": "python",
   "pygments_lexer": "ipython3",
   "version": "3.9.13"
  },
  "widgets": {
   "application/vnd.jupyter.widget-state+json": {
    "state": {},
    "version_major": 2,
    "version_minor": 0
   }
  }
 },
 "nbformat": 4,
 "nbformat_minor": 4
}
